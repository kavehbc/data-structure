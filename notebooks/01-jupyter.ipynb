{
 "cells": [
  {
   "cell_type": "markdown",
   "id": "9688be93-4245-4a9a-8bcc-81b316cc28aa",
   "metadata": {},
   "source": [
    "# Intro to Jupyter Notebooks"
   ]
  },
  {
   "cell_type": "markdown",
   "id": "5e97729c-6f2c-4895-8d4f-2ee382a20ede",
   "metadata": {},
   "source": [
    "## Markdown\n",
    "\n",
    "This is a **jupyter notebook** explaining *Data Structures* using Python and [Markdown language](https://www.markdownguide.org/cheat-sheet/)\n",
    "\n",
    "\n",
    "Presenting the danger of using **Jupyter Notebooks**, *Italic*, ***Bold and Italic***.\n",
    "\n",
    "---\n",
    "\n",
    "Here is the hello world sample code:\n",
    "\n",
    "```python\n",
    "print(\"Hello World!!!!\")\n",
    "print(\"Hello again!\")\n",
    "```\n",
    "\n",
    "Here $\\LaTeX$:\n",
    "\n",
    "$\\lim_{h\\to 0}\\frac{f(x+h)-f(x)}{h}$\n",
    "\n",
    "> This is a quotation.\n",
    "\n",
    "Bullet list:\n",
    "- Item 1\n",
    "- Item 2\n",
    "- Item 3\n"
   ]
  },
  {
   "cell_type": "markdown",
   "id": "c141c88b-86a1-4a7a-86c0-de8c14131262",
   "metadata": {},
   "source": [
    "## Code"
   ]
  },
  {
   "cell_type": "code",
   "execution_count": 4,
   "id": "c0c789e8-6528-423b-adcb-42b678b1bb66",
   "metadata": {
    "execution": {
     "iopub.execute_input": "2024-06-24T19:36:53.553046Z",
     "iopub.status.busy": "2024-06-24T19:36:53.553046Z",
     "iopub.status.idle": "2024-06-24T19:36:53.573212Z",
     "shell.execute_reply": "2024-06-24T19:36:53.570214Z",
     "shell.execute_reply.started": "2024-06-24T19:36:53.553046Z"
    }
   },
   "outputs": [
    {
     "data": {
      "text/plain": [
       "9"
      ]
     },
     "execution_count": 4,
     "metadata": {},
     "output_type": "execute_result"
    }
   ],
   "source": [
    "a = 5\n",
    "b = 4\n",
    "c = a + b\n",
    "c"
   ]
  },
  {
   "cell_type": "code",
   "execution_count": 5,
   "id": "3c8dcfd4-dfe6-4e49-992f-0db648b010e8",
   "metadata": {
    "execution": {
     "iopub.execute_input": "2024-06-24T19:36:53.866626Z",
     "iopub.status.busy": "2024-06-24T19:36:53.866626Z",
     "iopub.status.idle": "2024-06-24T19:36:53.884731Z",
     "shell.execute_reply": "2024-06-24T19:36:53.882746Z",
     "shell.execute_reply.started": "2024-06-24T19:36:53.866626Z"
    }
   },
   "outputs": [
    {
     "data": {
      "text/plain": [
       "11"
      ]
     },
     "execution_count": 5,
     "metadata": {},
     "output_type": "execute_result"
    }
   ],
   "source": [
    "b = 6\n",
    "c = a + b\n",
    "c"
   ]
  },
  {
   "cell_type": "code",
   "execution_count": 6,
   "id": "0481fa80-1659-4398-9ddd-dfe86f2c94d7",
   "metadata": {
    "execution": {
     "iopub.execute_input": "2024-06-24T19:36:54.128420Z",
     "iopub.status.busy": "2024-06-24T19:36:54.128420Z",
     "iopub.status.idle": "2024-06-24T19:36:54.639676Z",
     "shell.execute_reply": "2024-06-24T19:36:54.636413Z",
     "shell.execute_reply.started": "2024-06-24T19:36:54.128420Z"
    }
   },
   "outputs": [
    {
     "ename": "NameError",
     "evalue": "name 'e' is not defined",
     "output_type": "error",
     "traceback": [
      "\u001b[1;31m---------------------------------------------------------------------------\u001b[0m",
      "\u001b[1;31mNameError\u001b[0m                                 Traceback (most recent call last)",
      "Cell \u001b[1;32mIn[6], line 3\u001b[0m\n\u001b[0;32m      1\u001b[0m a \u001b[38;5;241m=\u001b[39m \u001b[38;5;241m3\u001b[39m\n\u001b[0;32m      2\u001b[0m c \u001b[38;5;241m=\u001b[39m a \u001b[38;5;241m+\u001b[39m b\n\u001b[1;32m----> 3\u001b[0m \u001b[38;5;28mprint\u001b[39m(\u001b[43me\u001b[49m)\n",
      "\u001b[1;31mNameError\u001b[0m: name 'e' is not defined"
     ]
    }
   ],
   "source": [
    "a = 3\n",
    "c = a + b\n",
    "print(e)"
   ]
  },
  {
   "cell_type": "code",
   "execution_count": 7,
   "id": "a3c2d965-840b-4fe2-88d9-8bc2b4633a44",
   "metadata": {
    "execution": {
     "iopub.execute_input": "2024-06-24T19:36:54.673387Z",
     "iopub.status.busy": "2024-06-24T19:36:54.673387Z",
     "iopub.status.idle": "2024-06-24T19:36:54.685410Z",
     "shell.execute_reply": "2024-06-24T19:36:54.683319Z",
     "shell.execute_reply.started": "2024-06-24T19:36:54.673387Z"
    }
   },
   "outputs": [],
   "source": [
    "e = 20"
   ]
  },
  {
   "cell_type": "markdown",
   "id": "dc9feb3c-39f9-4fc6-ae1d-0eb15e05c880",
   "metadata": {},
   "source": [
    "## Computation Time"
   ]
  },
  {
   "cell_type": "code",
   "execution_count": 9,
   "id": "fcdd3c5b-dca0-412b-8fac-e33108a7945b",
   "metadata": {
    "execution": {
     "iopub.execute_input": "2024-06-24T19:37:17.996335Z",
     "iopub.status.busy": "2024-06-24T19:37:17.995337Z",
     "iopub.status.idle": "2024-06-24T19:37:18.012436Z",
     "shell.execute_reply": "2024-06-24T19:37:18.011472Z",
     "shell.execute_reply.started": "2024-06-24T19:37:17.996335Z"
    }
   },
   "outputs": [
    {
     "name": "stdout",
     "output_type": "stream",
     "text": [
      "3 6 9\n",
      "Processing Time: 0.00000\n"
     ]
    }
   ],
   "source": [
    "import time\n",
    "\n",
    "t0 = time.time()\n",
    "\n",
    "print(a, b, c)\n",
    "\n",
    "t1 = time.time()\n",
    "print(f\"Processing Time: {t1 - t0:.5f}\")"
   ]
  },
  {
   "cell_type": "code",
   "execution_count": 10,
   "id": "ff833306-73bb-40c7-b2c0-9b218ed0c645",
   "metadata": {
    "execution": {
     "iopub.execute_input": "2024-06-24T19:37:18.682315Z",
     "iopub.status.busy": "2024-06-24T19:37:18.681314Z",
     "iopub.status.idle": "2024-06-24T19:37:18.706838Z",
     "shell.execute_reply": "2024-06-24T19:37:18.704311Z",
     "shell.execute_reply.started": "2024-06-24T19:37:18.682315Z"
    }
   },
   "outputs": [
    {
     "name": "stdout",
     "output_type": "stream",
     "text": [
      "CPU times: total: 0 ns\n",
      "Wall time: 0 ns\n"
     ]
    },
    {
     "data": {
      "text/plain": [
       "(3, 6, 9)"
      ]
     },
     "execution_count": 10,
     "metadata": {},
     "output_type": "execute_result"
    }
   ],
   "source": [
    "%%time\n",
    "a, b, c"
   ]
  },
  {
   "cell_type": "markdown",
   "id": "5df944d1-1f2f-4ad6-a87c-3fd3f2ad147d",
   "metadata": {},
   "source": [
    "### List"
   ]
  },
  {
   "cell_type": "code",
   "execution_count": null,
   "id": "9c607c5f-de21-4749-8b33-4c1082ebfd51",
   "metadata": {},
   "outputs": [],
   "source": [
    "# age = \n",
    "# lst_ages\n",
    "# dic_ages\n",
    "# df_ages\n",
    "# asdasdasd asd asd as"
   ]
  },
  {
   "cell_type": "code",
   "execution_count": 4,
   "id": "6af22e8f-3f2a-45ef-9504-96b51b9758af",
   "metadata": {},
   "outputs": [
    {
     "name": "stdout",
     "output_type": "stream",
     "text": [
      "['Ali', 'John', 'Mary']\n"
     ]
    }
   ],
   "source": [
    "lst_names = [\"Ali\", \"John\", \"Mary\"]\n",
    "print(lst_names)"
   ]
  },
  {
   "cell_type": "code",
   "execution_count": 5,
   "id": "2d24980e-d934-471c-a683-9499771b86fa",
   "metadata": {},
   "outputs": [
    {
     "name": "stdout",
     "output_type": "stream",
     "text": [
      "Ali\n"
     ]
    }
   ],
   "source": [
    "print(lst_names[0])"
   ]
  },
  {
   "cell_type": "markdown",
   "id": "4cb431b6-7bbe-4acc-8dc6-8f379348860c",
   "metadata": {},
   "source": [
    "## Raw Cell"
   ]
  },
  {
   "cell_type": "raw",
   "id": "c157e8bb-945d-4b32-88f7-5a6af70c4f35",
   "metadata": {},
   "source": [
    "print(\"Hello World!!!!\")\n",
    "print(\"Hello again!\")"
   ]
  },
  {
   "cell_type": "markdown",
   "id": "b969371e-5ffb-453d-bac0-ed59c4ed71f6",
   "metadata": {},
   "source": [
    "## Command Lines"
   ]
  },
  {
   "cell_type": "code",
   "execution_count": 1,
   "id": "f3ae0c27-b55e-451f-89bd-927074f943f0",
   "metadata": {},
   "outputs": [
    {
     "name": "stdout",
     "output_type": "stream",
     "text": [
      "Requirement already satisfied: jumpy in /opt/miniconda3/envs/ai/lib/python3.9/site-packages (0.2.4)\n",
      "Requirement already satisfied: Cython in /opt/miniconda3/envs/ai/lib/python3.9/site-packages (from jumpy) (3.0.8)\n",
      "Requirement already satisfied: numpy in /opt/miniconda3/envs/ai/lib/python3.9/site-packages (from jumpy) (1.26.0)\n",
      "Requirement already satisfied: pyjnius in /opt/miniconda3/envs/ai/lib/python3.9/site-packages (from jumpy) (1.6.1)\n",
      "\u001b[33mWARNING: There was an error checking the latest version of pip.\u001b[0m\u001b[33m\n",
      "\u001b[0m"
     ]
    }
   ],
   "source": [
    "!pip install jumpy"
   ]
  },
  {
   "cell_type": "markdown",
   "id": "5e0a5e11-ea57-4369-af6a-5585ed4c2c1e",
   "metadata": {},
   "source": [
    "## Table of Contents"
   ]
  },
  {
   "cell_type": "code",
   "execution_count": 1,
   "id": "a4b2310e-91e0-4678-af16-c403c644efde",
   "metadata": {
    "execution": {
     "iopub.execute_input": "2024-06-24T19:34:55.737334Z",
     "iopub.status.busy": "2024-06-24T19:34:55.736334Z",
     "iopub.status.idle": "2024-06-24T19:34:55.776375Z",
     "shell.execute_reply": "2024-06-24T19:34:55.774371Z",
     "shell.execute_reply.started": "2024-06-24T19:34:55.737334Z"
    }
   },
   "outputs": [],
   "source": [
    "import urllib\n",
    "import json\n",
    "\n",
    "def generate_toc(notebook_path, indent_char=\" \"):\n",
    "    is_markdown = lambda it: \"markdown\" == it[\"cell_type\"]\n",
    "    is_title = lambda it: it.strip().startswith(\"#\") and it.strip().lstrip(\"#\").lstrip()\n",
    "    with open(notebook_path, 'r') as in_f:\n",
    "        nb_json = json.load(in_f)\n",
    "\n",
    "    toc_numbers = []  # Lista para llevar el conteo de los números de contenido en cada nivel\n",
    "    \n",
    "    for cell in filter(is_markdown, nb_json[\"cells\"]):\n",
    "        for line in filter(is_title, cell[\"source\"]):\n",
    "            line = line.strip()\n",
    "            title = line.lstrip(\"#\").lstrip()\n",
    "    \n",
    "            level = line.count(\"#\")  # Nivel del título según la cantidad de \"#\"\n",
    "    \n",
    "            if level > len(toc_numbers):\n",
    "                toc_numbers.append(1)  # Agregar un nuevo nivel con numeración inicial en 1\n",
    "            else:\n",
    "                toc_numbers[level - 1] += 1  # Incrementar el número de contenido en el nivel actual\n",
    "                toc_numbers[level:] = [1] * (len(toc_numbers) - level)  # Reiniciar numeración en niveles inferiores\n",
    "    \n",
    "            toc_number_str = \".\".join(str(num) for num in toc_numbers[:level])\n",
    "            indent = indent_char * level\n",
    "            url = urllib.parse.quote(title.replace(\" \", \"-\"))\n",
    "            out_line = f\"{indent}{toc_number_str} [{title}](#{url})<br>\\n\"\n",
    "            print(out_line, end=\"\")"
   ]
  },
  {
   "cell_type": "code",
   "execution_count": 2,
   "id": "5c85f3af-f9b8-4dd0-b752-dcee43b311d7",
   "metadata": {
    "execution": {
     "iopub.execute_input": "2024-06-24T19:35:09.390463Z",
     "iopub.status.busy": "2024-06-24T19:35:09.389462Z",
     "iopub.status.idle": "2024-06-24T19:35:09.408462Z",
     "shell.execute_reply": "2024-06-24T19:35:09.406467Z",
     "shell.execute_reply.started": "2024-06-24T19:35:09.389462Z"
    }
   },
   "outputs": [
    {
     "name": "stdout",
     "output_type": "stream",
     "text": [
      " 1 [Intro to Jupyter Notebooks](#Intro-to-Jupyter-Notebooks)<br>\n",
      "  1.1 [Markdown](#Markdown)<br>\n",
      "  1.2 [Code](#Code)<br>\n",
      "   1.2.1 [List](#List)<br>\n",
      "  1.3 [Raw Cell](#Raw-Cell)<br>\n",
      "  1.4 [Command Lines](#Command-Lines)<br>\n"
     ]
    }
   ],
   "source": [
    "generate_toc(\"01-jupyter.ipynb\", indent_char=\" \")"
   ]
  },
  {
   "cell_type": "markdown",
   "id": "4d9554a8-49df-462b-aeb4-62c5e87705d7",
   "metadata": {},
   "source": [
    "1 [Intro to Jupyter Notebooks](#Intro-to-Jupyter-Notebooks)<br>\n",
    "  1.1 [Markdown](#Markdown)<br>\n",
    "  1.2 [Code](#Code)<br>\n",
    "   1.2.1 [List](#List)<br>\n",
    "  1.3 [Raw Cell](#Raw-Cell)<br>\n",
    "  1.4 [Command Lines](#Command-Lines)<br>"
   ]
  },
  {
   "cell_type": "code",
   "execution_count": null,
   "id": "1a345748-a1cd-4bb8-8d00-cafd3edae87e",
   "metadata": {},
   "outputs": [],
   "source": []
  }
 ],
 "metadata": {
  "kernelspec": {
   "display_name": "Python 3 (ipykernel)",
   "language": "python",
   "name": "python3"
  },
  "language_info": {
   "codemirror_mode": {
    "name": "ipython",
    "version": 3
   },
   "file_extension": ".py",
   "mimetype": "text/x-python",
   "name": "python",
   "nbconvert_exporter": "python",
   "pygments_lexer": "ipython3",
   "version": "3.10.13"
  }
 },
 "nbformat": 4,
 "nbformat_minor": 5
}
