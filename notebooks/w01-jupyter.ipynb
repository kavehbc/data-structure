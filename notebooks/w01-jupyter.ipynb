{
 "cells": [
  {
   "cell_type": "markdown",
   "id": "9688be93-4245-4a9a-8bcc-81b316cc28aa",
   "metadata": {},
   "source": [
    "# Data Structure\n",
    "## Week 1\n",
    "\n",
    "This is called Markdown.\n",
    "\n",
    "Presenting the danger of using **Jupyter Notebooks**, *Italic*, ***Bold and Italic***."
   ]
  },
  {
   "cell_type": "code",
   "execution_count": null,
   "id": "c0c789e8-6528-423b-adcb-42b678b1bb66",
   "metadata": {},
   "outputs": [],
   "source": [
    "a = 5\n",
    "b = 4\n",
    "c = a + b\n",
    "c"
   ]
  },
  {
   "cell_type": "code",
   "execution_count": 2,
   "id": "3c8dcfd4-dfe6-4e49-992f-0db648b010e8",
   "metadata": {},
   "outputs": [
    {
     "data": {
      "text/plain": [
       "11"
      ]
     },
     "execution_count": 2,
     "metadata": {},
     "output_type": "execute_result"
    }
   ],
   "source": [
    "b = 6\n",
    "c = a + b\n",
    "c"
   ]
  },
  {
   "cell_type": "code",
   "execution_count": 3,
   "id": "0481fa80-1659-4398-9ddd-dfe86f2c94d7",
   "metadata": {},
   "outputs": [
    {
     "ename": "NameError",
     "evalue": "name 'e' is not defined",
     "output_type": "error",
     "traceback": [
      "\u001b[1;31m---------------------------------------------------------------------------\u001b[0m",
      "\u001b[1;31mNameError\u001b[0m                                 Traceback (most recent call last)",
      "Cell \u001b[1;32mIn[3], line 3\u001b[0m\n\u001b[0;32m      1\u001b[0m a \u001b[38;5;241m=\u001b[39m \u001b[38;5;241m3\u001b[39m\n\u001b[0;32m      2\u001b[0m c \u001b[38;5;241m=\u001b[39m a \u001b[38;5;241m+\u001b[39m b\n\u001b[1;32m----> 3\u001b[0m \u001b[38;5;28mprint\u001b[39m(\u001b[43me\u001b[49m)\n",
      "\u001b[1;31mNameError\u001b[0m: name 'e' is not defined"
     ]
    }
   ],
   "source": [
    "a = 3\n",
    "c = a + b\n",
    "print(e)"
   ]
  },
  {
   "cell_type": "code",
   "execution_count": null,
   "id": "a3c2d965-840b-4fe2-88d9-8bc2b4633a44",
   "metadata": {},
   "outputs": [],
   "source": [
    "e = 20"
   ]
  },
  {
   "cell_type": "markdown",
   "id": "5df944d1-1f2f-4ad6-a87c-3fd3f2ad147d",
   "metadata": {},
   "source": [
    "### List"
   ]
  },
  {
   "cell_type": "code",
   "execution_count": null,
   "id": "9c607c5f-de21-4749-8b33-4c1082ebfd51",
   "metadata": {},
   "outputs": [],
   "source": [
    "# age = \n",
    "# lst_ages\n",
    "# dic_ages\n",
    "# df_ages\n",
    "# asdasdasd asd asd as"
   ]
  },
  {
   "cell_type": "code",
   "execution_count": 4,
   "id": "6af22e8f-3f2a-45ef-9504-96b51b9758af",
   "metadata": {},
   "outputs": [
    {
     "name": "stdout",
     "output_type": "stream",
     "text": [
      "['Ali', 'John', 'Mary']\n"
     ]
    }
   ],
   "source": [
    "lst_names = [\"Ali\", \"John\", \"Mary\"]\n",
    "print(lst_names)"
   ]
  },
  {
   "cell_type": "code",
   "execution_count": 5,
   "id": "2d24980e-d934-471c-a683-9499771b86fa",
   "metadata": {},
   "outputs": [
    {
     "name": "stdout",
     "output_type": "stream",
     "text": [
      "Ali\n"
     ]
    }
   ],
   "source": [
    "print(lst_names[0])"
   ]
  }
 ],
 "metadata": {
  "kernelspec": {
   "display_name": "Python 3 (ipykernel)",
   "language": "python",
   "name": "python3"
  },
  "language_info": {
   "codemirror_mode": {
    "name": "ipython",
    "version": 3
   },
   "file_extension": ".py",
   "mimetype": "text/x-python",
   "name": "python",
   "nbconvert_exporter": "python",
   "pygments_lexer": "ipython3",
   "version": "3.10.8"
  }
 },
 "nbformat": 4,
 "nbformat_minor": 5
}
