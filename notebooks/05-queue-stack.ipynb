{
 "cells": [
  {
   "cell_type": "markdown",
   "id": "a01b546b-80ff-4c1b-ae00-f139ad3b1e6a",
   "metadata": {},
   "source": [
    "# Queue"
   ]
  },
  {
   "cell_type": "code",
   "execution_count": null,
   "id": "d2f8cdf8-7f9f-4954-b3eb-1f3bab9ae7aa",
   "metadata": {},
   "outputs": [],
   "source": [
    "# FIFO - First In - First Out"
   ]
  },
  {
   "cell_type": "code",
   "execution_count": 1,
   "id": "c33d654c-e7af-4b30-8d75-6be1bdea5d06",
   "metadata": {},
   "outputs": [
    {
     "data": {
      "text/plain": [
       "[]"
      ]
     },
     "execution_count": 1,
     "metadata": {},
     "output_type": "execute_result"
    }
   ],
   "source": [
    "queue = []\n",
    "queue"
   ]
  },
  {
   "cell_type": "code",
   "execution_count": 2,
   "id": "807e380a-8674-423a-9b84-7354812f2a5c",
   "metadata": {},
   "outputs": [
    {
     "data": {
      "text/plain": [
       "['a', 'b', 'c', 'd']"
      ]
     },
     "execution_count": 2,
     "metadata": {},
     "output_type": "execute_result"
    }
   ],
   "source": [
    "queue.append('a')\n",
    "queue.append('b')\n",
    "queue.append('c')\n",
    "queue.append('d')\n",
    "queue"
   ]
  },
  {
   "cell_type": "code",
   "execution_count": 3,
   "id": "49bb1528-f000-4bc3-a002-74b0226caed0",
   "metadata": {},
   "outputs": [
    {
     "data": {
      "text/plain": [
       "'a'"
      ]
     },
     "execution_count": 3,
     "metadata": {},
     "output_type": "execute_result"
    }
   ],
   "source": [
    "queue.pop(0)"
   ]
  },
  {
   "cell_type": "code",
   "execution_count": 4,
   "id": "9e1be44e-040b-426b-b156-7994fab9745d",
   "metadata": {},
   "outputs": [
    {
     "data": {
      "text/plain": [
       "['b', 'c', 'd']"
      ]
     },
     "execution_count": 4,
     "metadata": {},
     "output_type": "execute_result"
    }
   ],
   "source": [
    "queue"
   ]
  },
  {
   "cell_type": "markdown",
   "id": "1aa26a6d-680c-44c3-b766-6e0ba6bc6071",
   "metadata": {},
   "source": [
    "# Stack"
   ]
  },
  {
   "cell_type": "code",
   "execution_count": 5,
   "id": "cead11c0-7e1a-436d-bd75-09196e45fd34",
   "metadata": {},
   "outputs": [],
   "source": [
    "# LIFO - Last-In-First-Out"
   ]
  },
  {
   "cell_type": "code",
   "execution_count": 6,
   "id": "29543dfe-2957-4b8b-b341-d2297854500a",
   "metadata": {},
   "outputs": [],
   "source": [
    "stack = []"
   ]
  },
  {
   "cell_type": "code",
   "execution_count": 7,
   "id": "9c0e0182-bd3b-4efc-8c74-54a8d303a901",
   "metadata": {},
   "outputs": [
    {
     "data": {
      "text/plain": [
       "['a', 'b', 'c', 'd']"
      ]
     },
     "execution_count": 7,
     "metadata": {},
     "output_type": "execute_result"
    }
   ],
   "source": [
    "stack.append('a')\n",
    "stack.append('b')\n",
    "stack.append('c')\n",
    "stack.append('d')\n",
    "stack"
   ]
  },
  {
   "cell_type": "code",
   "execution_count": 9,
   "id": "776e179f-ac3b-4783-ac80-60e7bba9ea5b",
   "metadata": {},
   "outputs": [
    {
     "data": {
      "text/plain": [
       "'d'"
      ]
     },
     "execution_count": 9,
     "metadata": {},
     "output_type": "execute_result"
    }
   ],
   "source": [
    "stack.pop()"
   ]
  },
  {
   "cell_type": "code",
   "execution_count": 10,
   "id": "69048837-955c-4344-b4d1-60b8fc5387de",
   "metadata": {},
   "outputs": [
    {
     "data": {
      "text/plain": [
       "['a', 'b', 'c']"
      ]
     },
     "execution_count": 10,
     "metadata": {},
     "output_type": "execute_result"
    }
   ],
   "source": [
    "stack"
   ]
  },
  {
   "cell_type": "markdown",
   "id": "3971bdb9-01d1-45ce-a9e8-bf8efca6594b",
   "metadata": {},
   "source": [
    "# Deck of Cards"
   ]
  },
  {
   "cell_type": "markdown",
   "id": "a43fc1e8-125c-4b02-b74e-51b32cab40b4",
   "metadata": {},
   "source": [
    "We have a full deck of 52 cards of clubs, spades, heart and diamond.\n",
    "We would like to shuffle the cards and distribute them among 4 players."
   ]
  },
  {
   "cell_type": "code",
   "execution_count": 37,
   "id": "c964a440-3847-4f58-9e66-c0fcf58d5859",
   "metadata": {
    "tags": []
   },
   "outputs": [
    {
     "name": "stdout",
     "output_type": "stream",
     "text": [
      "['♣ 2', '♣ 3', '♣ 4', '♣ 5', '♣ 6', '♣ 7', '♣ 8', '♣ 9', '♣ 10', '♣ A', '♣ J', '♣ Q', '♣ K', '♦ 2', '♦ 3', '♦ 4', '♦ 5', '♦ 6', '♦ 7', '♦ 8', '♦ 9', '♦ 10', '♦ A', '♦ J', '♦ Q', '♦ K', '♥ 2', '♥ 3', '♥ 4', '♥ 5', '♥ 6', '♥ 7', '♥ 8', '♥ 9', '♥ 10', '♥ A', '♥ J', '♥ Q', '♥ K', '♠ 2', '♠ 3', '♠ 4', '♠ 5', '♠ 6', '♠ 7', '♠ 8', '♠ 9', '♠ 10', '♠ A', '♠ J', '♠ Q', '♠ K']\n"
     ]
    }
   ],
   "source": [
    "# initialize my full deck of cards\n",
    "\n",
    "full_deck = []\n",
    "card_names = [\"♣\", \"♦\", \"♥\", \"♠\"]\n",
    "for symbol in card_names:\n",
    "    for card_number in range(2, 11):\n",
    "        full_deck.append(f\"{symbol} {card_number}\")\n",
    "        \n",
    "    full_deck.append(f\"{symbol} A\")\n",
    "    full_deck.append(f\"{symbol} J\")\n",
    "    full_deck.append(f\"{symbol} Q\")\n",
    "    full_deck.append(f\"{symbol} K\")\n",
    "    \n",
    "print(full_deck)"
   ]
  },
  {
   "cell_type": "code",
   "execution_count": 38,
   "id": "ba20a9fb-56d4-4bf2-ac37-49ae35b53465",
   "metadata": {},
   "outputs": [
    {
     "name": "stdout",
     "output_type": "stream",
     "text": [
      "['♥ 5', '♦ 4', '♦ A', '♣ 8', '♥ 6', '♠ 6', '♦ 10', '♠ Q', '♥ 2', '♦ J', '♠ 4', '♥ 8', '♠ 2', '♥ J', '♠ 8', '♠ 7', '♣ Q', '♥ 9', '♦ 9', '♣ 2', '♣ A', '♥ Q', '♦ 5', '♦ 8', '♥ 10', '♠ A', '♠ 5', '♣ J', '♠ 10', '♣ 4', '♦ 6', '♣ 5', '♣ K', '♣ 10', '♣ 9', '♠ K', '♠ 3', '♥ 3', '♥ 7', '♦ 7', '♠ J', '♦ Q', '♦ 2', '♦ K', '♠ 9', '♥ K', '♣ 3', '♥ A', '♣ 7', '♥ 4', '♣ 6', '♦ 3']\n"
     ]
    }
   ],
   "source": [
    "# shuffle my full deck\n",
    "import random\n",
    "\n",
    "random.shuffle(full_deck)\n",
    "print(full_deck)"
   ]
  },
  {
   "cell_type": "code",
   "execution_count": 39,
   "id": "44d8ac51-a6a7-47f4-a6c4-ad3888fca806",
   "metadata": {},
   "outputs": [
    {
     "name": "stdout",
     "output_type": "stream",
     "text": [
      "{'1': ['♦ 3', '♥ A', '♦ K', '♦ 7', '♠ K', '♣ 5', '♣ J', '♦ 8', '♣ 2', '♠ 7', '♥ 8', '♠ Q', '♣ 8'], '2': ['♣ 6', '♣ 3', '♦ 2', '♥ 7', '♣ 9', '♦ 6', '♠ 5', '♦ 5', '♦ 9', '♠ 8', '♠ 4', '♦ 10', '♦ A'], '3': ['♥ 4', '♥ K', '♦ Q', '♥ 3', '♣ 10', '♣ 4', '♠ A', '♥ Q', '♥ 9', '♥ J', '♦ J', '♠ 6', '♦ 4'], '4': ['♣ 7', '♠ 9', '♠ J', '♠ 3', '♣ K', '♠ 10', '♥ 10', '♣ A', '♣ Q', '♠ 2', '♥ 2', '♥ 6', '♥ 5']}\n"
     ]
    }
   ],
   "source": [
    "# distributing the cards among players\n",
    "\n",
    "players = {'1': [],\n",
    "           '2': [],\n",
    "           '3': [],\n",
    "           '4': []}\n",
    "\n",
    "while len(full_deck) > 0:\n",
    "    for player in players:\n",
    "        players[player].append(full_deck.pop())\n",
    "\n",
    "print(players)"
   ]
  },
  {
   "cell_type": "code",
   "execution_count": 40,
   "id": "98c9faa4-bd87-498e-ae74-cabde9a118c0",
   "metadata": {},
   "outputs": [],
   "source": [
    "# sorting each player's hand\n",
    "\n",
    "for player in players:\n",
    "    players[player].sort()"
   ]
  },
  {
   "cell_type": "code",
   "execution_count": 41,
   "id": "e675e12c-a095-4fb0-b55b-7c61acd22342",
   "metadata": {},
   "outputs": [
    {
     "name": "stdout",
     "output_type": "stream",
     "text": [
      "['♠ 7', '♠ K', '♠ Q', '♣ 2', '♣ 5', '♣ 8', '♣ J', '♥ 8', '♥ A', '♦ 3', '♦ 7', '♦ 8', '♦ K']\n"
     ]
    }
   ],
   "source": [
    "# printing player 1 cards\n",
    "\n",
    "print(players['1'])"
   ]
  },
  {
   "cell_type": "code",
   "execution_count": null,
   "id": "ed58cea6-24f0-4bbe-ad08-0689edfd9b5c",
   "metadata": {},
   "outputs": [],
   "source": []
  }
 ],
 "metadata": {
  "kernelspec": {
   "display_name": "Python 3 (ipykernel)",
   "language": "python",
   "name": "python3"
  },
  "language_info": {
   "codemirror_mode": {
    "name": "ipython",
    "version": 3
   },
   "file_extension": ".py",
   "mimetype": "text/x-python",
   "name": "python",
   "nbconvert_exporter": "python",
   "pygments_lexer": "ipython3",
   "version": "3.10.13"
  }
 },
 "nbformat": 4,
 "nbformat_minor": 5
}
