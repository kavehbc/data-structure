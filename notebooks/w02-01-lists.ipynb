{
 "cells": [
  {
   "cell_type": "markdown",
   "id": "89efeae8-defe-4067-91eb-c4fed006ad51",
   "metadata": {},
   "source": [
    "# List and Tuple"
   ]
  },
  {
   "cell_type": "markdown",
   "id": "d51b9a7e-b332-4bd9-8421-6850780c2095",
   "metadata": {},
   "source": [
    "## Dynamic Data Typing"
   ]
  },
  {
   "cell_type": "code",
   "execution_count": 3,
   "id": "ab556bd0-e37c-40ca-99af-c9c41514d969",
   "metadata": {},
   "outputs": [
    {
     "name": "stdout",
     "output_type": "stream",
     "text": [
      "Hello\n"
     ]
    }
   ],
   "source": [
    "name = 'Hello'\n",
    "print(name)"
   ]
  },
  {
   "cell_type": "code",
   "execution_count": 4,
   "id": "9e3c8487-7226-4041-8dbd-039e3b78c350",
   "metadata": {},
   "outputs": [
    {
     "name": "stdout",
     "output_type": "stream",
     "text": [
      "5\n"
     ]
    }
   ],
   "source": [
    "name = 5\n",
    "print(name)"
   ]
  },
  {
   "cell_type": "markdown",
   "id": "59c0d9b3-7fe1-4422-b2a0-9b153aea6fc9",
   "metadata": {},
   "source": [
    "## List"
   ]
  },
  {
   "cell_type": "code",
   "execution_count": 12,
   "id": "f39febce-d844-411d-8f45-6fb06bd43730",
   "metadata": {},
   "outputs": [],
   "source": [
    "lst_names = [\"John\", \"Mary\", \"Oscar\", \"James\", \"Kaveh\"]"
   ]
  },
  {
   "cell_type": "code",
   "execution_count": 10,
   "id": "1b7fd595-31c1-44a8-84c5-3dac19af2fc8",
   "metadata": {},
   "outputs": [
    {
     "data": {
      "text/plain": [
       "['John', 'Mary', 'Oscar', 'James', 'Kaveh']"
      ]
     },
     "execution_count": 10,
     "metadata": {},
     "output_type": "execute_result"
    }
   ],
   "source": [
    "lst_names"
   ]
  },
  {
   "cell_type": "code",
   "execution_count": 7,
   "id": "a7f52309-11f4-4dcb-b667-9ef67b436ee7",
   "metadata": {},
   "outputs": [
    {
     "data": {
      "text/plain": [
       "5"
      ]
     },
     "execution_count": 7,
     "metadata": {},
     "output_type": "execute_result"
    }
   ],
   "source": [
    "len(lst_names)"
   ]
  },
  {
   "cell_type": "code",
   "execution_count": 8,
   "id": "cc2ace4f-10b7-458d-9253-da226e6aff02",
   "metadata": {},
   "outputs": [
    {
     "data": {
      "text/plain": [
       "'John'"
      ]
     },
     "execution_count": 8,
     "metadata": {},
     "output_type": "execute_result"
    }
   ],
   "source": [
    "lst_names[0]"
   ]
  },
  {
   "cell_type": "code",
   "execution_count": 9,
   "id": "5b8986ea-ec12-4626-8783-7725c49ba5d9",
   "metadata": {},
   "outputs": [
    {
     "data": {
      "text/plain": [
       "'Kaveh'"
      ]
     },
     "execution_count": 9,
     "metadata": {},
     "output_type": "execute_result"
    }
   ],
   "source": [
    "lst_names[-1]"
   ]
  },
  {
   "cell_type": "code",
   "execution_count": 14,
   "id": "44733a16-1fd3-48c6-9c32-67a9f77a4ac9",
   "metadata": {},
   "outputs": [
    {
     "data": {
      "text/plain": [
       "['John', 'Mary', 'Oscar', 'James', 'Kaveh', 'Lucas', 'Lucas']"
      ]
     },
     "execution_count": 14,
     "metadata": {},
     "output_type": "execute_result"
    }
   ],
   "source": [
    "lst_names.append(\"Lucas\")\n",
    "lst_names"
   ]
  },
  {
   "cell_type": "code",
   "execution_count": 16,
   "id": "e53005ee-a9e2-4495-b739-daa362e5e725",
   "metadata": {},
   "outputs": [],
   "source": [
    "two_names = [\"Sophia\", \"Maria\"]"
   ]
  },
  {
   "cell_type": "code",
   "execution_count": 17,
   "id": "75b9e4c7-e348-4f5d-912f-9f41bd96a27b",
   "metadata": {},
   "outputs": [
    {
     "data": {
      "text/plain": [
       "['John',\n",
       " 'Mary',\n",
       " 'Oscar',\n",
       " 'James',\n",
       " 'Kaveh',\n",
       " 'Lucas',\n",
       " 'Lucas',\n",
       " ['Sophia', 'Maria']]"
      ]
     },
     "execution_count": 17,
     "metadata": {},
     "output_type": "execute_result"
    }
   ],
   "source": [
    "lst_names.append(two_names)\n",
    "lst_names"
   ]
  },
  {
   "cell_type": "code",
   "execution_count": 18,
   "id": "fb3e9dca-c1f6-4833-9794-73396088b849",
   "metadata": {},
   "outputs": [
    {
     "data": {
      "text/plain": [
       "['John',\n",
       " 'Mary',\n",
       " 'Oscar',\n",
       " 'James',\n",
       " 'Kaveh',\n",
       " 'Lucas',\n",
       " 'Lucas',\n",
       " ['Sophia', 'Maria'],\n",
       " 'Sophia',\n",
       " 'Maria']"
      ]
     },
     "execution_count": 18,
     "metadata": {},
     "output_type": "execute_result"
    }
   ],
   "source": [
    "lst_names.extend(two_names)\n",
    "lst_names"
   ]
  },
  {
   "cell_type": "code",
   "execution_count": 19,
   "id": "52553c7a-e16e-4ae0-97f2-c599bdaf0969",
   "metadata": {},
   "outputs": [
    {
     "data": {
      "text/plain": [
       "list"
      ]
     },
     "execution_count": 19,
     "metadata": {},
     "output_type": "execute_result"
    }
   ],
   "source": [
    "type(lst_names)"
   ]
  },
  {
   "cell_type": "code",
   "execution_count": 21,
   "id": "d8ed4fb8-9e44-40a6-8f58-e209b1052807",
   "metadata": {},
   "outputs": [
    {
     "name": "stdout",
     "output_type": "stream",
     "text": [
      "John\n",
      "Mary\n",
      "Oscar\n",
      "James\n",
      "Kaveh\n",
      "Lucas\n",
      "Lucas\n",
      "['Sophia', 'Maria']\n",
      "Sophia\n",
      "Maria\n"
     ]
    }
   ],
   "source": [
    "for item in lst_names:\n",
    "    print(item)"
   ]
  },
  {
   "cell_type": "code",
   "execution_count": 25,
   "id": "940d6e42-2af7-4853-9daa-04db14b2a609",
   "metadata": {},
   "outputs": [
    {
     "name": "stdout",
     "output_type": "stream",
     "text": [
      "John\n",
      "Mary\n",
      "Oscar\n",
      "James\n",
      "Kaveh\n",
      "Lucas\n",
      "Lucas\n",
      "['Sophia', 'Maria']\n",
      "Sophia\n",
      "Maria\n"
     ]
    }
   ],
   "source": [
    "for index in range(len(lst_names)):\n",
    "    print(lst_names[index])"
   ]
  },
  {
   "cell_type": "code",
   "execution_count": 31,
   "id": "a792b6b3-3299-4e6a-bd8a-4f23f0102173",
   "metadata": {},
   "outputs": [
    {
     "name": "stdout",
     "output_type": "stream",
     "text": [
      "5\n",
      "6\n"
     ]
    }
   ],
   "source": [
    "search_item = 'Lucas'\n",
    "\n",
    "for index in range(len(lst_names)):\n",
    "    if search_item == lst_names[index]:\n",
    "            print(index)\n"
   ]
  },
  {
   "cell_type": "code",
   "execution_count": 38,
   "id": "332e24ee-3f11-45db-bac9-47d6b828821b",
   "metadata": {},
   "outputs": [
    {
     "name": "stdout",
     "output_type": "stream",
     "text": [
      "5\n",
      "6\n"
     ]
    }
   ],
   "source": [
    "start_index = -1\n",
    "for i in lst_names:\n",
    "    try:\n",
    "        start_index = lst_names.index('Lucas', start_index + 1)\n",
    "        print(start_index)\n",
    "    except:\n",
    "        break\n",
    "        "
   ]
  },
  {
   "cell_type": "markdown",
   "id": "6b9b7f7b-a3c5-4007-a56e-85fde61b63ea",
   "metadata": {},
   "source": [
    "## Tuple"
   ]
  },
  {
   "cell_type": "code",
   "execution_count": 39,
   "id": "22ed264b-1417-464a-be9a-dc8d4a921730",
   "metadata": {},
   "outputs": [
    {
     "data": {
      "text/plain": [
       "('Lucas', 'James', 'John', 'Kaveh')"
      ]
     },
     "execution_count": 39,
     "metadata": {},
     "output_type": "execute_result"
    }
   ],
   "source": [
    "tpl_names = ('Lucas', 'James', 'John', 'Kaveh')\n",
    "tpl_names"
   ]
  },
  {
   "cell_type": "code",
   "execution_count": 40,
   "id": "1bb51fc9-542d-4ac6-8ea6-26862b217984",
   "metadata": {},
   "outputs": [
    {
     "data": {
      "text/plain": [
       "'Lucas'"
      ]
     },
     "execution_count": 40,
     "metadata": {},
     "output_type": "execute_result"
    }
   ],
   "source": [
    "tpl_names[0]"
   ]
  }
 ],
 "metadata": {
  "kernelspec": {
   "display_name": "Python 3 (ipykernel)",
   "language": "python",
   "name": "python3"
  },
  "language_info": {
   "codemirror_mode": {
    "name": "ipython",
    "version": 3
   },
   "file_extension": ".py",
   "mimetype": "text/x-python",
   "name": "python",
   "nbconvert_exporter": "python",
   "pygments_lexer": "ipython3",
   "version": "3.8.13"
  }
 },
 "nbformat": 4,
 "nbformat_minor": 5
}
