{
 "cells": [
  {
   "cell_type": "markdown",
   "id": "67e1128d-715c-44ea-988e-2177e806038d",
   "metadata": {},
   "source": [
    "# Recursive Functions"
   ]
  },
  {
   "cell_type": "code",
   "execution_count": 16,
   "id": "dfc02a48-69af-4698-94e2-d534936aad7a",
   "metadata": {},
   "outputs": [],
   "source": [
    "import time"
   ]
  },
  {
   "cell_type": "markdown",
   "id": "3e361ca3-feab-44b7-b3be-010d9fd7d18a",
   "metadata": {},
   "source": [
    "Developing a function to calculate factorial without using recursive functions\n",
    "\n",
    "For example:\n",
    "n! = n * (n-1) * (n-2) * ... * 1"
   ]
  },
  {
   "cell_type": "code",
   "execution_count": 17,
   "id": "f4e89540-9142-4565-9a46-0672effb01f9",
   "metadata": {},
   "outputs": [],
   "source": [
    "def factorial1(n):\n",
    "    result = 1\n",
    "    for i in range(1, n+1):\n",
    "        result *= i\n",
    "    return result"
   ]
  },
  {
   "cell_type": "code",
   "execution_count": 18,
   "id": "7179cb2d-aade-4040-80de-f7ed73e09fbd",
   "metadata": {},
   "outputs": [
    {
     "name": "stdout",
     "output_type": "stream",
     "text": [
      "Processing time: 0.0010616779327392578 seconds.\n"
     ]
    }
   ],
   "source": [
    "t1 = time.time()\n",
    "\n",
    "factorial1(1000)\n",
    "\n",
    "t2 = time.time()\n",
    "print(f\"Processing time: {t2 - t1} seconds.\")"
   ]
  },
  {
   "cell_type": "markdown",
   "id": "4232ac3a-88d7-4773-a95c-c543d9c6d872",
   "metadata": {},
   "source": [
    "Now, using a recursive function"
   ]
  },
  {
   "cell_type": "code",
   "execution_count": 19,
   "id": "32ee8dc8-b0e4-42ac-9bef-499b12d49030",
   "metadata": {},
   "outputs": [],
   "source": [
    "def factorial2(n):\n",
    "    if n == 1:\n",
    "        return 1\n",
    "    else:\n",
    "        return n * factorial2(n-1)"
   ]
  },
  {
   "cell_type": "code",
   "execution_count": 20,
   "id": "548a581a-6bd5-4bf8-ab08-7a1d4481ee98",
   "metadata": {},
   "outputs": [
    {
     "name": "stdout",
     "output_type": "stream",
     "text": [
      "Processing time: 0.0011050701141357422 seconds.\n"
     ]
    }
   ],
   "source": [
    "t1 = time.time()\n",
    "\n",
    "factorial2(1000)\n",
    "\n",
    "t2 = time.time()\n",
    "print(f\"Processing time: {t2 - t1} seconds.\")"
   ]
  },
  {
   "cell_type": "markdown",
   "id": "b5ba112f-f28a-42c8-925c-493b95441b94",
   "metadata": {},
   "source": [
    "## Nested List"
   ]
  },
  {
   "cell_type": "code",
   "execution_count": 21,
   "id": "5ff0a230-f439-4d25-a21d-e8c4ffd8b05a",
   "metadata": {},
   "outputs": [
    {
     "data": {
      "text/plain": [
       "5"
      ]
     },
     "execution_count": 21,
     "metadata": {},
     "output_type": "execute_result"
    }
   ],
   "source": [
    "nested_list = [1, 5, [1, [9, 2], 5], 8, 3]\n",
    "len(nested_list)"
   ]
  },
  {
   "cell_type": "markdown",
   "id": "7f8b09c3-39be-4d96-9678-06181c4416dd",
   "metadata": {},
   "source": [
    "But the actual number of items in that list is 8.\n",
    "\n",
    "Let's create a function to count the number of items within nested list."
   ]
  },
  {
   "cell_type": "code",
   "execution_count": 25,
   "id": "c7307634-c006-456c-ba5f-311f8ade03ef",
   "metadata": {},
   "outputs": [],
   "source": [
    "def count_items1(nl):\n",
    "    counter = 0\n",
    "    for item1 in nl:\n",
    "        if isinstance(item1, list):\n",
    "            for item2 in item1:\n",
    "                if isinstance(item2, list):\n",
    "                    for item3 in item2:\n",
    "                        counter += 1\n",
    "                else:\n",
    "                    counter += 1                \n",
    "        else:\n",
    "            counter += 1\n",
    "    return counter"
   ]
  },
  {
   "cell_type": "code",
   "execution_count": 26,
   "id": "c9333036-f9f2-425e-9d34-e501fd89323d",
   "metadata": {},
   "outputs": [
    {
     "data": {
      "text/plain": [
       "8"
      ]
     },
     "execution_count": 26,
     "metadata": {},
     "output_type": "execute_result"
    }
   ],
   "source": [
    "count_items(nested_list)"
   ]
  },
  {
   "cell_type": "code",
   "execution_count": 30,
   "id": "2b263fa4-f7d1-40ee-a675-942e2b5db66e",
   "metadata": {},
   "outputs": [],
   "source": [
    "def count_items2(nl):\n",
    "    count = 0\n",
    "    stack = []\n",
    "    current_list = nl\n",
    "    i = 0\n",
    "    \n",
    "    while True:\n",
    "        if i == len(current_list):\n",
    "            if current_list == nl:\n",
    "                return count\n",
    "            else:\n",
    "                current_list, i = stack.pop()\n",
    "                i += 1\n",
    "                continue\n",
    "        \n",
    "        if isinstance(current_list[i], list):\n",
    "            stack.append([current_list, i])\n",
    "            current_list = current_list[i]\n",
    "            i = 0\n",
    "        else:\n",
    "            count += 1\n",
    "            i += 1"
   ]
  },
  {
   "cell_type": "code",
   "execution_count": 31,
   "id": "60424aa0-e848-45e6-9183-63500dca06c8",
   "metadata": {},
   "outputs": [
    {
     "data": {
      "text/plain": [
       "8"
      ]
     },
     "execution_count": 31,
     "metadata": {},
     "output_type": "execute_result"
    }
   ],
   "source": [
    "count_items2(nested_list)"
   ]
  },
  {
   "cell_type": "markdown",
   "id": "2358f52e-04da-44bc-8068-c8cb1dee2cec",
   "metadata": {},
   "source": [
    "Using recursive function"
   ]
  },
  {
   "cell_type": "code",
   "execution_count": 32,
   "id": "3198e79e-9d02-4436-a9f6-b6f005ba418e",
   "metadata": {},
   "outputs": [],
   "source": [
    "def count_items3(nl):\n",
    "    counter = 0\n",
    "    for item in nl:\n",
    "        if isinstance(item, list):\n",
    "            counter += count_items3(item)\n",
    "        else:\n",
    "            counter += 1\n",
    "    return counter\n",
    "    "
   ]
  },
  {
   "cell_type": "code",
   "execution_count": 33,
   "id": "e2fd37fe-0e7b-4c1b-8674-e7466ac43e10",
   "metadata": {},
   "outputs": [
    {
     "data": {
      "text/plain": [
       "8"
      ]
     },
     "execution_count": 33,
     "metadata": {},
     "output_type": "execute_result"
    }
   ],
   "source": [
    "count_items3(nested_list)"
   ]
  }
 ],
 "metadata": {
  "kernelspec": {
   "display_name": "Python 3 (ipykernel)",
   "language": "python",
   "name": "python3"
  },
  "language_info": {
   "codemirror_mode": {
    "name": "ipython",
    "version": 3
   },
   "file_extension": ".py",
   "mimetype": "text/x-python",
   "name": "python",
   "nbconvert_exporter": "python",
   "pygments_lexer": "ipython3",
   "version": "3.8.13"
  }
 },
 "nbformat": 4,
 "nbformat_minor": 5
}
