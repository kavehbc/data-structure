{
 "cells": [
  {
   "cell_type": "markdown",
   "id": "ff144849-891f-4f60-8972-0588fdbb022d",
   "metadata": {},
   "source": [
    "# Dictionary"
   ]
  },
  {
   "cell_type": "code",
   "execution_count": 1,
   "id": "fc0b7c82-ab7a-40a0-a69e-c91575789dc4",
   "metadata": {},
   "outputs": [],
   "source": [
    "my_dict = {\"key1\": \"value1\", \"key2\": \"value2\"}"
   ]
  },
  {
   "cell_type": "code",
   "execution_count": 2,
   "id": "fcf06a54-ae6a-4c3b-bf1f-6053b00b4409",
   "metadata": {},
   "outputs": [
    {
     "data": {
      "text/plain": [
       "{'key1': 'value1', 'key2': 'value2'}"
      ]
     },
     "execution_count": 2,
     "metadata": {},
     "output_type": "execute_result"
    }
   ],
   "source": [
    "my_dict"
   ]
  },
  {
   "cell_type": "code",
   "execution_count": 3,
   "id": "1488fd20-f96c-4ddf-b2d0-e53f39f1d5e9",
   "metadata": {},
   "outputs": [
    {
     "data": {
      "text/plain": [
       "'value1'"
      ]
     },
     "execution_count": 3,
     "metadata": {},
     "output_type": "execute_result"
    }
   ],
   "source": [
    "my_dict[\"key1\"]"
   ]
  },
  {
   "cell_type": "code",
   "execution_count": 4,
   "id": "82207644-45d6-4162-9ccc-0cc73cbe3879",
   "metadata": {},
   "outputs": [
    {
     "data": {
      "text/plain": [
       "{'courses': [{'name': 'db', 'teacher': 'Kaveh'},\n",
       "  {'name': 'Python', 'teacher': 'Salar'},\n",
       "  {'name': 'OOP', 'teacher': 'Salar'}]}"
      ]
     },
     "execution_count": 4,
     "metadata": {},
     "output_type": "execute_result"
    }
   ],
   "source": [
    "my_courses = {\"courses\":\n",
    "              [{\"name\": \"db\", \"teacher\": \"Kaveh\"},\n",
    "               {\"name\": \"Python\", \"teacher\": \"Salar\"},\n",
    "               {\"name\": \"OOP\", \"teacher\": \"Salar\"}]}\n",
    "my_courses"
   ]
  },
  {
   "cell_type": "code",
   "execution_count": 14,
   "id": "27800f42-0e2b-45c8-bcf9-15c97cb0d893",
   "metadata": {},
   "outputs": [
    {
     "data": {
      "text/plain": [
       "'Salar'"
      ]
     },
     "execution_count": 14,
     "metadata": {},
     "output_type": "execute_result"
    }
   ],
   "source": [
    "# finding the teacher of OOP course\n",
    "\n",
    "my_courses[\"courses\"][2][\"teacher\"]"
   ]
  },
  {
   "cell_type": "code",
   "execution_count": 16,
   "id": "e344f07e-bd83-4a34-afda-780e5cab6ba4",
   "metadata": {},
   "outputs": [
    {
     "name": "stdout",
     "output_type": "stream",
     "text": [
      "Salar\n"
     ]
    }
   ],
   "source": [
    "for course in my_courses[\"courses\"]:\n",
    "    if course[\"name\"] == \"OOP\":\n",
    "        print(course[\"teacher\"])"
   ]
  },
  {
   "cell_type": "markdown",
   "id": "8bb43562-7452-4d49-b7b3-11dacd0754f9",
   "metadata": {},
   "source": [
    "## start with LIST"
   ]
  },
  {
   "cell_type": "code",
   "execution_count": 44,
   "id": "cefd9416-5465-4603-8b0b-8987b8c949a9",
   "metadata": {},
   "outputs": [],
   "source": [
    "phone_book = [\n",
    "    {\"name\": \"Kaveh\",\n",
    "    \"email\": [{\"home\": \"kaveh@gmail.com\"}, {\"work\": \"kaveh@work.com\"}],\n",
    "     \"phone\": [{\"home\": \"1234567\"}, {\"work\": \"7654321\"}],\n",
    "     \"address\": [{\"type\": \"work\",\n",
    "                  \"address\": \"2000 Sainte-Catherine\",\n",
    "                  \"city\": \"Montreal\",\n",
    "                  \"state\": \"Quebec\",\n",
    "                  \"postal_code\": \"H3H1A1\",\n",
    "                  \"country\": \"Canada\"\n",
    "                 }]\n",
    "     \n",
    "    },\n",
    "    {\"name\": \"Salar\",\n",
    "    \"email\": [{\"home\": \"salar@gmail.com\"}, {\"work\": \"salar@work.com\"}],\n",
    "     \"phone\": [{\"home\": \"1234567\"}, {\"work\": \"7654321\"}],\n",
    "     \"address\": [{\"type\": \"work\",\n",
    "                  \"address\": \"2000 Sainte-Catherine\",\n",
    "                  \"city\": \"Montreal\",\n",
    "                  \"state\": \"Quebec\",\n",
    "                  \"postal_code\": \"H3H1A1\",\n",
    "                  \"country\": \"Canada\"\n",
    "                 }]\n",
    "     \n",
    "    }\n",
    "    ] "
   ]
  },
  {
   "cell_type": "code",
   "execution_count": 45,
   "id": "8bf83c0e-5744-474c-bfb9-8dd54eafcc60",
   "metadata": {},
   "outputs": [
    {
     "data": {
      "text/plain": [
       "[{'name': 'Kaveh',\n",
       "  'email': [{'home': 'kaveh@gmail.com'}, {'work': 'kaveh@work.com'}],\n",
       "  'phone': [{'home': '1234567'}, {'work': '7654321'}],\n",
       "  'address': [{'type': 'work',\n",
       "    'address': '2000 Sainte-Catherine',\n",
       "    'city': 'Montreal',\n",
       "    'state': 'Quebec',\n",
       "    'postal_code': 'H3H1A1',\n",
       "    'country': 'Canada'}]},\n",
       " {'name': 'Salar',\n",
       "  'email': [{'home': 'salar@gmail.com'}, {'work': 'salar@work.com'}],\n",
       "  'phone': [{'home': '1234567'}, {'work': '7654321'}],\n",
       "  'address': [{'type': 'work',\n",
       "    'address': '2000 Sainte-Catherine',\n",
       "    'city': 'Montreal',\n",
       "    'state': 'Quebec',\n",
       "    'postal_code': 'H3H1A1',\n",
       "    'country': 'Canada'}]}]"
      ]
     },
     "execution_count": 45,
     "metadata": {},
     "output_type": "execute_result"
    }
   ],
   "source": [
    "phone_book"
   ]
  },
  {
   "cell_type": "code",
   "execution_count": 46,
   "id": "c2cf3436-4b36-48be-9acf-b1fb9edf4a35",
   "metadata": {},
   "outputs": [
    {
     "name": "stdout",
     "output_type": "stream",
     "text": [
      "[{'home': 'kaveh@gmail.com'}, {'work': 'kaveh@work.com'}]\n"
     ]
    }
   ],
   "source": [
    "def looking(looking_for):\n",
    "    for person in phone_book:\n",
    "        if person[\"name\"] == looking_for:\n",
    "            print(person[\"email\"])\n",
    "            \n",
    "looking(\"Kaveh\")"
   ]
  },
  {
   "cell_type": "code",
   "execution_count": 47,
   "id": "dfa85ebe-4c84-44ee-8651-33c2e2e54503",
   "metadata": {},
   "outputs": [
    {
     "data": {
      "text/plain": [
       "[{'name': 'Kaveh',\n",
       "  'email': [{'home': 'kaveh@gmail.com'}, {'work': 'kaveh@work.com'}],\n",
       "  'phone': [{'home': '1234567'}, {'work': '7654321'}],\n",
       "  'address': [{'type': 'work',\n",
       "    'address': '2000 Sainte-Catherine',\n",
       "    'city': 'Montreal',\n",
       "    'state': 'Quebec',\n",
       "    'postal_code': 'H3H1A1',\n",
       "    'country': 'Canada'}]},\n",
       " {'name': 'Salar',\n",
       "  'email': [{'home': 'salar@gmail.com'}, {'work': 'salar@work.com'}],\n",
       "  'phone': [{'home': '1234567'}, {'work': '7654321'}],\n",
       "  'address': [{'type': 'work',\n",
       "    'address': '2000 Sainte-Catherine',\n",
       "    'city': 'Montreal',\n",
       "    'state': 'Quebec',\n",
       "    'postal_code': 'H3H1A1',\n",
       "    'country': 'Canada'}]},\n",
       " {'name': 'Lucas',\n",
       "  'email': [{'home': 'lucas@gmail.com'}, {'work': 'lucas@work.com'}],\n",
       "  'phone': [{'home': '1234567'}, {'work': '7654321'}],\n",
       "  'address': [{'type': 'work',\n",
       "    'address': '2000 Sainte-Catherine',\n",
       "    'city': 'Montreal',\n",
       "    'state': 'Quebec',\n",
       "    'postal_code': 'H3H1A1',\n",
       "    'country': 'Canada'}]}]"
      ]
     },
     "execution_count": 47,
     "metadata": {},
     "output_type": "execute_result"
    }
   ],
   "source": [
    "new_person = {\"name\": \"Lucas\",\n",
    "    \"email\": [{\"home\": \"lucas@gmail.com\"}, {\"work\": \"lucas@work.com\"}],\n",
    "     \"phone\": [{\"home\": \"1234567\"}, {\"work\": \"7654321\"}],\n",
    "     \"address\": [{\"type\": \"work\",\n",
    "                  \"address\": \"2000 Sainte-Catherine\",\n",
    "                  \"city\": \"Montreal\",\n",
    "                  \"state\": \"Quebec\",\n",
    "                  \"postal_code\": \"H3H1A1\",\n",
    "                  \"country\": \"Canada\"\n",
    "                 }]\n",
    "    }\n",
    "\n",
    "phone_book.append(new_person)\n",
    "phone_book"
   ]
  },
  {
   "cell_type": "code",
   "execution_count": 48,
   "id": "a722049e-dddd-431c-ad25-118eb5a9b33b",
   "metadata": {},
   "outputs": [
    {
     "name": "stdout",
     "output_type": "stream",
     "text": [
      "[{'home': 'lucas@gmail.com'}, {'work': 'lucas@work.com'}]\n"
     ]
    }
   ],
   "source": [
    "looking(\"Lucas\")"
   ]
  },
  {
   "cell_type": "markdown",
   "id": "1f593776-748d-45ed-9b3a-f2f4d7509ce9",
   "metadata": {},
   "source": [
    "## Starting with Dictionary"
   ]
  },
  {
   "cell_type": "code",
   "execution_count": 58,
   "id": "dcedf91b-9c82-4df3-a18b-d8b7ee07fada",
   "metadata": {},
   "outputs": [],
   "source": [
    "phone_book = {\n",
    "            \"__comment__\" : \"This is my comment\",\n",
    "            \"Kaveh\": {\n",
    "                    \"email\": [{'home': 'kaveh@gmail.com'}, {'work': 'kaveh@work.com'}],\n",
    "                    \"phone\": [{'home': '1234567'}, {'work': '7654321'}],\n",
    "                    \"address\": [{'type': 'work',\n",
    "                                'address': '2000 Sainte-Catherine',\n",
    "                                'city': 'Montreal',\n",
    "                                'state': 'Quebec',\n",
    "                                'postal_code': 'H3H1A1',\n",
    "                                'country': 'Canada'}],\n",
    "                    \"gender\": None,\n",
    "                },\n",
    "              \"Salar\": {\n",
    "                    \"email\": [{'home': 'salar@gmail.com'}, {'work': 'salar@work.com'}],\n",
    "                    \"phone\": [{'home': '1234567'}, {'work': '7654321'}],\n",
    "                    \"address\": [{'type': 'work',\n",
    "                                'address': '2000 Sainte-Catherine',\n",
    "                                'city': 'Montreal',\n",
    "                                'state': 'Quebec',\n",
    "                                'postal_code': 'H3H1A1',\n",
    "                                'country': 'Canada'}],\n",
    "                    \"gender\": True\n",
    "                }\n",
    "             }"
   ]
  },
  {
   "cell_type": "code",
   "execution_count": 59,
   "id": "b27516e9-f272-4220-ae80-7dcfbd5b7e6a",
   "metadata": {},
   "outputs": [
    {
     "data": {
      "text/plain": [
       "{'Kaveh': {'email': [{'home': 'kaveh@gmail.com'}, {'work': 'kaveh@work.com'}],\n",
       "  'phone': [{'home': '1234567'}, {'work': '7654321'}],\n",
       "  'address': [{'type': 'work',\n",
       "    'address': '2000 Sainte-Catherine',\n",
       "    'city': 'Montreal',\n",
       "    'state': 'Quebec',\n",
       "    'postal_code': 'H3H1A1',\n",
       "    'country': 'Canada'}],\n",
       "  'gender': None},\n",
       " 'Salar': {'email': [{'home': 'salar@gmail.com'}, {'work': 'salar@work.com'}],\n",
       "  'phone': [{'home': '1234567'}, {'work': '7654321'}],\n",
       "  'address': [{'type': 'work',\n",
       "    'address': '2000 Sainte-Catherine',\n",
       "    'city': 'Montreal',\n",
       "    'state': 'Quebec',\n",
       "    'postal_code': 'H3H1A1',\n",
       "    'country': 'Canada'}],\n",
       "  'gender': True}}"
      ]
     },
     "execution_count": 59,
     "metadata": {},
     "output_type": "execute_result"
    }
   ],
   "source": [
    "phone_book"
   ]
  },
  {
   "cell_type": "code",
   "execution_count": 51,
   "id": "5105839e-71a1-42a4-86c8-ab2804d492af",
   "metadata": {},
   "outputs": [
    {
     "data": {
      "text/plain": [
       "[{'home': '1234567'}, {'work': '7654321'}]"
      ]
     },
     "execution_count": 51,
     "metadata": {},
     "output_type": "execute_result"
    }
   ],
   "source": [
    "phone_book[\"Kaveh\"][\"phone\"]"
   ]
  },
  {
   "cell_type": "markdown",
   "id": "0d622ef7-3699-4717-b66b-f7412a1ee714",
   "metadata": {},
   "source": [
    "## JSON"
   ]
  },
  {
   "cell_type": "code",
   "execution_count": 60,
   "id": "141fb9e5-b8fd-4eb2-ae6d-ad970fcf1d43",
   "metadata": {},
   "outputs": [
    {
     "data": {
      "text/plain": [
       "'{\"Kaveh\": {\"email\": [{\"home\": \"kaveh@gmail.com\"}, {\"work\": \"kaveh@work.com\"}], \"phone\": [{\"home\": \"1234567\"}, {\"work\": \"7654321\"}], \"address\": [{\"type\": \"work\", \"address\": \"2000 Sainte-Catherine\", \"city\": \"Montreal\", \"state\": \"Quebec\", \"postal_code\": \"H3H1A1\", \"country\": \"Canada\"}], \"gender\": null}, \"Salar\": {\"email\": [{\"home\": \"salar@gmail.com\"}, {\"work\": \"salar@work.com\"}], \"phone\": [{\"home\": \"1234567\"}, {\"work\": \"7654321\"}], \"address\": [{\"type\": \"work\", \"address\": \"2000 Sainte-Catherine\", \"city\": \"Montreal\", \"state\": \"Quebec\", \"postal_code\": \"H3H1A1\", \"country\": \"Canada\"}], \"gender\": true}}'"
      ]
     },
     "execution_count": 60,
     "metadata": {},
     "output_type": "execute_result"
    }
   ],
   "source": [
    "import json\n",
    "\n",
    "str_phone_book = json.dumps(phone_book)\n",
    "str_phone_book"
   ]
  },
  {
   "cell_type": "code",
   "execution_count": 53,
   "id": "0791f10c-905f-45c5-a755-32e5a0015ea1",
   "metadata": {},
   "outputs": [
    {
     "data": {
      "text/plain": [
       "str"
      ]
     },
     "execution_count": 53,
     "metadata": {},
     "output_type": "execute_result"
    }
   ],
   "source": [
    "type(str_phone_book)"
   ]
  },
  {
   "cell_type": "code",
   "execution_count": 61,
   "id": "83027d77-37e7-4c0b-82fd-00d9cc22b0ac",
   "metadata": {},
   "outputs": [],
   "source": [
    "with open('data/phonebook.json', 'w') as f:\n",
    "    f.write(str_phone_book)"
   ]
  },
  {
   "cell_type": "code",
   "execution_count": 62,
   "id": "5865c178-7b48-407c-a7a9-091483d8447b",
   "metadata": {},
   "outputs": [],
   "source": [
    "f = open('data/phonebook.json', 'r')\n",
    "phone_book = json.load(f)"
   ]
  },
  {
   "cell_type": "code",
   "execution_count": 63,
   "id": "54b29d13-d322-4b6d-926a-61211d1a0976",
   "metadata": {},
   "outputs": [
    {
     "data": {
      "text/plain": [
       "dict"
      ]
     },
     "execution_count": 63,
     "metadata": {},
     "output_type": "execute_result"
    }
   ],
   "source": [
    "type(phone_book)"
   ]
  },
  {
   "cell_type": "code",
   "execution_count": 64,
   "id": "6c5e58df-870c-4c1c-9520-731d46874144",
   "metadata": {},
   "outputs": [
    {
     "data": {
      "text/plain": [
       "{'Kaveh': {'email': [{'home': 'kaveh@gmail.com'}, {'work': 'kaveh@work.com'}],\n",
       "  'phone': [{'home': '1234567'}, {'work': '7654321'}],\n",
       "  'address': [{'type': 'work',\n",
       "    'address': '2000 Sainte-Catherine',\n",
       "    'city': 'Montreal',\n",
       "    'state': 'Quebec',\n",
       "    'postal_code': 'H3H1A1',\n",
       "    'country': 'Canada'}],\n",
       "  'gender': None},\n",
       " 'Salar': {'email': [{'home': 'salar@gmail.com'}, {'work': 'salar@work.com'}],\n",
       "  'phone': [{'home': '1234567'}, {'work': '7654321'}],\n",
       "  'address': [{'type': 'work',\n",
       "    'address': '2000 Sainte-Catherine',\n",
       "    'city': 'Montreal',\n",
       "    'state': 'Quebec',\n",
       "    'postal_code': 'H3H1A1',\n",
       "    'country': 'Canada'}],\n",
       "  'gender': True}}"
      ]
     },
     "execution_count": 64,
     "metadata": {},
     "output_type": "execute_result"
    }
   ],
   "source": [
    "phone_book"
   ]
  },
  {
   "cell_type": "code",
   "execution_count": null,
   "id": "f6b1b385-bc28-4486-9064-bdc81e7cacf0",
   "metadata": {},
   "outputs": [],
   "source": []
  }
 ],
 "metadata": {
  "kernelspec": {
   "display_name": "Python 3 (ipykernel)",
   "language": "python",
   "name": "python3"
  },
  "language_info": {
   "codemirror_mode": {
    "name": "ipython",
    "version": 3
   },
   "file_extension": ".py",
   "mimetype": "text/x-python",
   "name": "python",
   "nbconvert_exporter": "python",
   "pygments_lexer": "ipython3",
   "version": "3.8.13"
  }
 },
 "nbformat": 4,
 "nbformat_minor": 5
}
