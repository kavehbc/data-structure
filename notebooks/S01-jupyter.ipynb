{
 "cells": [
  {
   "cell_type": "markdown",
   "id": "9688be93-4245-4a9a-8bcc-81b316cc28aa",
   "metadata": {},
   "source": [
    "# Intro to Jupyter Notebooks"
   ]
  },
  {
   "cell_type": "markdown",
   "id": "5e97729c-6f2c-4895-8d4f-2ee382a20ede",
   "metadata": {},
   "source": [
    "## Markdown\n",
    "\n",
    "This is a **jupyter notebook** explaining *Data Structures* using Python and [Markdown language](https://www.markdownguide.org/cheat-sheet/)\n",
    "\n",
    "\n",
    "Presenting the danger of using **Jupyter Notebooks**, *Italic*, ***Bold and Italic***.\n",
    "\n",
    "---\n",
    "\n",
    "Here is the hello world sample code:\n",
    "\n",
    "```python\n",
    "print(\"Hello World!!!!\")\n",
    "print(\"Hello again!\")\n",
    "```\n",
    "\n",
    "Here $\\LaTeX$:\n",
    "\n",
    "$\\lim_{h\\to 0}\\frac{f(x+h)-f(x)}{h}$\n",
    "\n",
    "## Code"
   ]
  },
  {
   "cell_type": "code",
   "execution_count": null,
   "id": "c0c789e8-6528-423b-adcb-42b678b1bb66",
   "metadata": {},
   "outputs": [],
   "source": [
    "a = 5\n",
    "b = 4\n",
    "c = a + b\n",
    "c"
   ]
  },
  {
   "cell_type": "code",
   "execution_count": 2,
   "id": "3c8dcfd4-dfe6-4e49-992f-0db648b010e8",
   "metadata": {},
   "outputs": [
    {
     "data": {
      "text/plain": [
       "11"
      ]
     },
     "execution_count": 2,
     "metadata": {},
     "output_type": "execute_result"
    }
   ],
   "source": [
    "b = 6\n",
    "c = a + b\n",
    "c"
   ]
  },
  {
   "cell_type": "code",
   "execution_count": 3,
   "id": "0481fa80-1659-4398-9ddd-dfe86f2c94d7",
   "metadata": {},
   "outputs": [
    {
     "ename": "NameError",
     "evalue": "name 'e' is not defined",
     "output_type": "error",
     "traceback": [
      "\u001b[1;31m---------------------------------------------------------------------------\u001b[0m",
      "\u001b[1;31mNameError\u001b[0m                                 Traceback (most recent call last)",
      "Cell \u001b[1;32mIn[3], line 3\u001b[0m\n\u001b[0;32m      1\u001b[0m a \u001b[38;5;241m=\u001b[39m \u001b[38;5;241m3\u001b[39m\n\u001b[0;32m      2\u001b[0m c \u001b[38;5;241m=\u001b[39m a \u001b[38;5;241m+\u001b[39m b\n\u001b[1;32m----> 3\u001b[0m \u001b[38;5;28mprint\u001b[39m(\u001b[43me\u001b[49m)\n",
      "\u001b[1;31mNameError\u001b[0m: name 'e' is not defined"
     ]
    }
   ],
   "source": [
    "a = 3\n",
    "c = a + b\n",
    "print(e)"
   ]
  },
  {
   "cell_type": "code",
   "execution_count": null,
   "id": "a3c2d965-840b-4fe2-88d9-8bc2b4633a44",
   "metadata": {},
   "outputs": [],
   "source": [
    "e = 20"
   ]
  },
  {
   "cell_type": "markdown",
   "id": "5df944d1-1f2f-4ad6-a87c-3fd3f2ad147d",
   "metadata": {},
   "source": [
    "### List"
   ]
  },
  {
   "cell_type": "code",
   "execution_count": null,
   "id": "9c607c5f-de21-4749-8b33-4c1082ebfd51",
   "metadata": {},
   "outputs": [],
   "source": [
    "# age = \n",
    "# lst_ages\n",
    "# dic_ages\n",
    "# df_ages\n",
    "# asdasdasd asd asd as"
   ]
  },
  {
   "cell_type": "code",
   "execution_count": 4,
   "id": "6af22e8f-3f2a-45ef-9504-96b51b9758af",
   "metadata": {},
   "outputs": [
    {
     "name": "stdout",
     "output_type": "stream",
     "text": [
      "['Ali', 'John', 'Mary']\n"
     ]
    }
   ],
   "source": [
    "lst_names = [\"Ali\", \"John\", \"Mary\"]\n",
    "print(lst_names)"
   ]
  },
  {
   "cell_type": "code",
   "execution_count": 5,
   "id": "2d24980e-d934-471c-a683-9499771b86fa",
   "metadata": {},
   "outputs": [
    {
     "name": "stdout",
     "output_type": "stream",
     "text": [
      "Ali\n"
     ]
    }
   ],
   "source": [
    "print(lst_names[0])"
   ]
  },
  {
   "cell_type": "markdown",
   "id": "4cb431b6-7bbe-4acc-8dc6-8f379348860c",
   "metadata": {},
   "source": [
    "## Raw Cell"
   ]
  },
  {
   "cell_type": "raw",
   "id": "c157e8bb-945d-4b32-88f7-5a6af70c4f35",
   "metadata": {},
   "source": [
    "print(\"Hello World!!!!\")\n",
    "print(\"Hello again!\")"
   ]
  },
  {
   "cell_type": "markdown",
   "id": "b969371e-5ffb-453d-bac0-ed59c4ed71f6",
   "metadata": {},
   "source": [
    "## Command Lines"
   ]
  },
  {
   "cell_type": "code",
   "execution_count": 1,
   "id": "f3ae0c27-b55e-451f-89bd-927074f943f0",
   "metadata": {},
   "outputs": [
    {
     "name": "stdout",
     "output_type": "stream",
     "text": [
      "Requirement already satisfied: jumpy in /opt/miniconda3/envs/ai/lib/python3.9/site-packages (0.2.4)\n",
      "Requirement already satisfied: Cython in /opt/miniconda3/envs/ai/lib/python3.9/site-packages (from jumpy) (3.0.8)\n",
      "Requirement already satisfied: numpy in /opt/miniconda3/envs/ai/lib/python3.9/site-packages (from jumpy) (1.26.0)\n",
      "Requirement already satisfied: pyjnius in /opt/miniconda3/envs/ai/lib/python3.9/site-packages (from jumpy) (1.6.1)\n",
      "\u001b[33mWARNING: There was an error checking the latest version of pip.\u001b[0m\u001b[33m\n",
      "\u001b[0m"
     ]
    }
   ],
   "source": [
    "!pip install jumpy"
   ]
  },
  {
   "cell_type": "code",
   "execution_count": null,
   "id": "0c241c10-44b3-4f53-ba9a-6200f0882f60",
   "metadata": {},
   "outputs": [],
   "source": []
  }
 ],
 "metadata": {
  "kernelspec": {
   "display_name": "Python 3",
   "language": "python",
   "name": "python3"
  },
  "language_info": {
   "codemirror_mode": {
    "name": "ipython",
    "version": 3
   },
   "file_extension": ".py",
   "mimetype": "text/x-python",
   "name": "python",
   "nbconvert_exporter": "python",
   "pygments_lexer": "ipython3",
   "version": "3.9.18"
  }
 },
 "nbformat": 4,
 "nbformat_minor": 5
}
