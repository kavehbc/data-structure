{
 "cells": [
  {
   "cell_type": "markdown",
   "id": "fd7ea533-b967-4d04-b32f-5fa4c45cd127",
   "metadata": {},
   "source": [
    "# Spiral Array"
   ]
  },
  {
   "cell_type": "code",
   "execution_count": 1,
   "id": "9850a22e-a960-4c96-8d9f-8c0dadba3348",
   "metadata": {},
   "outputs": [],
   "source": [
    "import numpy as np"
   ]
  },
  {
   "cell_type": "code",
   "execution_count": 49,
   "id": "17bc4334-533f-4c05-b620-5dff16646d2d",
   "metadata": {},
   "outputs": [
    {
     "data": {
      "text/plain": [
       "array([[0, 0, 0, 0, 0, 0, 0, 0, 0, 0],\n",
       "       [0, 0, 0, 0, 0, 0, 0, 0, 0, 0],\n",
       "       [0, 0, 0, 0, 0, 0, 0, 0, 0, 0],\n",
       "       [0, 0, 0, 0, 0, 0, 0, 0, 0, 0],\n",
       "       [0, 0, 0, 0, 0, 0, 0, 0, 0, 0],\n",
       "       [0, 0, 0, 0, 0, 0, 0, 0, 0, 0],\n",
       "       [0, 0, 0, 0, 0, 0, 0, 0, 0, 0],\n",
       "       [0, 0, 0, 0, 0, 0, 0, 0, 0, 0],\n",
       "       [0, 0, 0, 0, 0, 0, 0, 0, 0, 0],\n",
       "       [0, 0, 0, 0, 0, 0, 0, 0, 0, 0]])"
      ]
     },
     "execution_count": 49,
     "metadata": {},
     "output_type": "execute_result"
    }
   ],
   "source": [
    "n = 10\n",
    "\n",
    "matrix = np.zeros((n,n), dtype=int) \n",
    "matrix"
   ]
  },
  {
   "cell_type": "code",
   "execution_count": 51,
   "id": "0eeccf4c-8557-4be9-adfd-a78914bab473",
   "metadata": {},
   "outputs": [
    {
     "data": {
      "text/plain": [
       "array([[  1,   2,   3,   4,   5,   6,   7,   8,   9,  10],\n",
       "       [ 36,  37,  38,  39,  40,  41,  42,  43,  44,  11],\n",
       "       [ 35,  64,  65,  66,  67,  68,  69,  70,  45,  12],\n",
       "       [ 34,  63,  84,  85,  86,  87,  88,  71,  46,  13],\n",
       "       [ 33,  62,  83,  96,  97,  98,  89,  72,  47,  14],\n",
       "       [ 32,  61,  82,  95, 100,  99,  90,  73,  48,  15],\n",
       "       [ 31,  60,  81,  94,  93,  92,  91,  74,  49,  16],\n",
       "       [ 30,  59,  80,  79,  78,  77,  76,  75,  50,  17],\n",
       "       [ 29,  58,  57,  56,  55,  54,  53,  52,  51,  18],\n",
       "       [ 28,  27,  26,  25,  24,  23,  22,  21,  20,  19]])"
      ]
     },
     "execution_count": 51,
     "metadata": {},
     "output_type": "execute_result"
    }
   ],
   "source": [
    "counter = 0\n",
    "i = 0\n",
    "l = 0\n",
    "while counter < (n * n):\n",
    "    for j in range(0 + l, n - l):\n",
    "        counter += 1\n",
    "        matrix[i][j] = counter\n",
    "    for i in range(l + 1, n - l):\n",
    "        counter += 1\n",
    "        matrix[i][j] = counter\n",
    "    for j in reversed(range(0 + l, n - 1 - l)):\n",
    "        counter += 1\n",
    "        matrix[i][j] = counter\n",
    "    for i in reversed(range(l + 1, n - 1 - l)):\n",
    "        counter += 1\n",
    "        matrix[i][j] = counter\n",
    "    l += 1\n",
    "\n",
    "matrix"
   ]
  }
 ],
 "metadata": {
  "kernelspec": {
   "display_name": "Python 3 (ipykernel)",
   "language": "python",
   "name": "python3"
  },
  "language_info": {
   "codemirror_mode": {
    "name": "ipython",
    "version": 3
   },
   "file_extension": ".py",
   "mimetype": "text/x-python",
   "name": "python",
   "nbconvert_exporter": "python",
   "pygments_lexer": "ipython3",
   "version": "3.8.13"
  }
 },
 "nbformat": 4,
 "nbformat_minor": 5
}
