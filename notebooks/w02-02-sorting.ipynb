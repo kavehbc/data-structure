{
 "cells": [
  {
   "cell_type": "markdown",
   "id": "fbdc5ae8-3223-4482-ae1a-36daff7d5397",
   "metadata": {},
   "source": [
    "## Recursive Function"
   ]
  },
  {
   "cell_type": "markdown",
   "id": "878e6ea5-8935-4764-af72-5dee9f589047",
   "metadata": {},
   "source": [
    "### Calculating Factorial"
   ]
  },
  {
   "cell_type": "code",
   "execution_count": 2,
   "id": "6bc28655-35da-4cb5-bba7-82529cfe0f79",
   "metadata": {},
   "outputs": [],
   "source": [
    "# the idea is to calculate n!\n",
    "\n",
    "def f(n):\n",
    "    if n == 1:\n",
    "        return 1\n",
    "    return n * f(n-1)"
   ]
  },
  {
   "cell_type": "raw",
   "id": "2e989c4e-573b-4b2f-8b22-85ce2b337f83",
   "metadata": {},
   "source": [
    "f(5) -> 5 * 24\n",
    "f(4) -> 4 * 6\n",
    "f(3) -> 3 * 2\n",
    "f(2) -> 2 * 1\n",
    "f(1) = 1"
   ]
  },
  {
   "cell_type": "code",
   "execution_count": 4,
   "id": "fd6d28a3-5637-4918-910d-d8b2f16615a9",
   "metadata": {},
   "outputs": [
    {
     "name": "stdout",
     "output_type": "stream",
     "text": [
      "120\n"
     ]
    }
   ],
   "source": [
    "print(5 * 4 * 3 * 2 * 1)"
   ]
  },
  {
   "cell_type": "code",
   "execution_count": 3,
   "id": "87549adf-5413-4e81-978b-5adf6693b62a",
   "metadata": {},
   "outputs": [
    {
     "name": "stdout",
     "output_type": "stream",
     "text": [
      "120\n"
     ]
    }
   ],
   "source": [
    "print(f(5))"
   ]
  },
  {
   "cell_type": "markdown",
   "id": "dcea8433-841a-4c6f-98b7-949be603cb3b",
   "metadata": {},
   "source": [
    "## Sorting"
   ]
  },
  {
   "cell_type": "code",
   "execution_count": null,
   "id": "5c77e7fd-ddd6-4da1-8db2-b5f6e5ab778a",
   "metadata": {},
   "outputs": [],
   "source": [
    "lst = [5, 7, 1, 3, 4, 9, 6]"
   ]
  },
  {
   "cell_type": "markdown",
   "id": "30a95bd5-9718-4e6a-be0c-19ae8fc300a1",
   "metadata": {},
   "source": [
    "### Insertion Sort\n",
    "\n",
    "O(n^2)"
   ]
  },
  {
   "cell_type": "code",
   "execution_count": null,
   "id": "06be1cf7-a1bf-4bbf-9439-a1b32094bfb7",
   "metadata": {},
   "outputs": [],
   "source": [
    "for i in range(1, len(lst)):\n",
    "    \n",
    "    item = lst[i]\n",
    "    print(f\"Picked: {item}\")\n",
    "\n",
    "    j = i - 1\n",
    "    while j >= 0 and j <= i and item < lst[j]:\n",
    "        lst[j+1] = lst[j]\n",
    "        print(f\"Moving: {lst}\")\n",
    "        j -= 1\n",
    "    \n",
    "    lst[j + 1] = item\n",
    "    \n",
    "    print(lst)\n",
    "    print(\"\")"
   ]
  },
  {
   "cell_type": "markdown",
   "id": "543b896a-2285-42ef-be34-8e2ff87ee262",
   "metadata": {},
   "source": [
    "### Merge Sort\n",
    "\n",
    "O(n log n)"
   ]
  },
  {
   "cell_type": "code",
   "execution_count": null,
   "id": "4d094f59-5d4d-478e-90f0-55406089a2c5",
   "metadata": {},
   "outputs": [],
   "source": [
    "lst = [5, 7, 1, 3, 4, 9, 6]\n",
    "\n",
    "def merge_sort(lst):\n",
    "    if len(lst) > 1:\n",
    "        \n",
    "        mid = len(lst) // 2\n",
    "        print(f\"Mid: {mid}\")\n",
    "        \n",
    "        L = lst[:mid]\n",
    "        R = lst[mid:]\n",
    "        print(f\"Left: {L}\")\n",
    "        print(f\"Right: {R}\")\n",
    "        print(\"\")\n",
    "        \n",
    "        merge_sort(L)\n",
    "        merge_sort(R)\n",
    "        \n",
    "        i = j = k = 0\n",
    "        \n",
    "        # Copy data to temp arrays L[] and R[]\n",
    "        while i < len(L) and j < len(R):\n",
    "            if L[i] <= R[j]:\n",
    "                lst[k] = L[i]\n",
    "                i += 1\n",
    "            else:\n",
    "                lst[k] = R[j]\n",
    "                j += 1\n",
    "            k += 1\n",
    " \n",
    "        # Checking if any element was left\n",
    "        while i < len(L):\n",
    "            lst[k] = L[i]\n",
    "            i += 1\n",
    "            k += 1\n",
    " \n",
    "        while j < len(R):\n",
    "            lst[k] = R[j]\n",
    "            j += 1\n",
    "            k += 1\n",
    "    "
   ]
  },
  {
   "cell_type": "code",
   "execution_count": null,
   "id": "073af37b-143d-4470-87f2-8aab814468cf",
   "metadata": {},
   "outputs": [],
   "source": [
    "merge_sort(lst)"
   ]
  },
  {
   "cell_type": "code",
   "execution_count": null,
   "id": "abae287a-3092-4cb0-95a3-dc62a712ade4",
   "metadata": {},
   "outputs": [],
   "source": [
    "lst"
   ]
  },
  {
   "cell_type": "markdown",
   "id": "5064cf3e-b7dd-4144-91da-eae68c18c13e",
   "metadata": {},
   "source": [
    "## Bubble Sorting"
   ]
  },
  {
   "cell_type": "raw",
   "id": "e2af4a03-1071-429a-b0d2-2f4e3315320e",
   "metadata": {},
   "source": [
    "lst = [5, 1, 4, 2, 8]\n",
    "\n",
    "Every step we take two items of 5, 1 and we sort.\n",
    "[5, 1, 4, 2, 8]\n",
    "Then we go with 5, 4, and we sort them\n",
    "[1, 5, 4, 2, 8]\n",
    "Now, we continue with 5, 2\n",
    "[1, 4, 5, 2, 8]\n",
    "Last, we check 5, 8 combination, and since they are already sorted we do not swap them.\n",
    "[1, 4, 2, 5, 8]\n",
    "[1, 4, 2, 5, 8]\n",
    "\n",
    "We continue the same operation one more time from scratch.\n",
    "We repeat this process n times.\n",
    "\n",
    "[1, 4, 2, 5, 8]\n",
    "[1, 2, 4, 5, 8]\n",
    "[1, 2, 4, 5, 8]\n",
    "[1, 2, 4, 5, 8]\n",
    "\n",
    "[1, 2, 4, 5, 8]\n",
    "\n",
    "O(n^2)"
   ]
  },
  {
   "cell_type": "code",
   "execution_count": 11,
   "id": "8faeab76-c9a4-472a-a9dd-13c6efc31375",
   "metadata": {},
   "outputs": [],
   "source": [
    "lst = [5, 7, 1, 3, 4, 9, 6]"
   ]
  },
  {
   "cell_type": "code",
   "execution_count": 15,
   "id": "cfa5ac65-ffd4-48d8-8a7f-50b695a10499",
   "metadata": {},
   "outputs": [],
   "source": [
    "def bubble_sort(lst):\n",
    "    n = len(lst)\n",
    "    \n",
    "    for i in range(n):\n",
    "        for j in range(0, n-i-1):\n",
    "            if lst[j] > lst[j+1]:\n",
    "                # a, b = b, a\n",
    "                # we are swapping the j with j+1\n",
    "                lst[j], lst[j+1] = lst[j+1], lst[j]"
   ]
  },
  {
   "cell_type": "code",
   "execution_count": 16,
   "id": "8f23d608-ae6e-44a3-9349-7d5639838e2c",
   "metadata": {},
   "outputs": [
    {
     "data": {
      "text/plain": [
       "[1, 3, 4, 5, 6, 7, 9]"
      ]
     },
     "execution_count": 16,
     "metadata": {},
     "output_type": "execute_result"
    }
   ],
   "source": [
    "bubble_sort(lst)\n",
    "lst"
   ]
  },
  {
   "cell_type": "raw",
   "id": "8924614b-f762-4e9e-96d3-87262ced8796",
   "metadata": {},
   "source": [
    "swap a, b\n",
    "need c\n",
    "c = a\n",
    "a = b\n",
    "c = c\n",
    "\n",
    "a = 5\n",
    "b = 3\n",
    "\n",
    "c = 5\n",
    "a = 3\n",
    "b = 5"
   ]
  },
  {
   "cell_type": "markdown",
   "id": "1c10ba10-f720-486a-9f3a-d098cd6f9f06",
   "metadata": {},
   "source": [
    "## Selection Sort"
   ]
  },
  {
   "cell_type": "raw",
   "id": "cb56d8d9-0564-47e2-bd25-569e8c06d03c",
   "metadata": {},
   "source": [
    "lst = [5, 7, 3, 1, 4, 9, 6]\n",
    "\n",
    "We assume that the list is already unsorted.\n",
    "We have two parts. Sorted Part and Unsorted Part.\n",
    "\n",
    "Sorted Part = []\n",
    "Unsorted Part = [5, 7, 1, 3, 4, 9, 6]\n",
    "\n",
    "I look for the smallest value from Unsorted: 1\n",
    "I move the smallest value to Sorted:\n",
    "\n",
    "Sorted = [1]\n",
    "Unsorted = [5, 7, 3, 4, 9, 6]\n",
    "\n",
    "i=0\n",
    "lst = [1, 7, 5, 3, 4, 9, 6]\n",
    "\n",
    "\n",
    "Repeat:\n",
    "Sorted = [1, 3]\n",
    "Unsorted = [5, 7, 4, 9, 6]\n",
    "\n",
    "i=1\n",
    "lst = [1, 3, 5, 7, 4, 9, 6]\n",
    "\n",
    "Repeat:\n",
    "Sorted = [1, 3, 4]\n",
    "Unsorted = [5, 7, 9, 6]\n",
    "\n",
    "i=2\n",
    "lst = [1, 3, 4, 7, 5, 9, 6]\n",
    "\n",
    "i=3\n",
    "lst = [1, 3, 4, 7, 5, 9, 6]\n",
    "\n",
    "i=4\n",
    "lst = [1, 3, 4, 5, 6, 9, 7]\n",
    "\n",
    "i=5\n",
    "lst = [1, 3, 4, 5, 6, 7, 9]\n",
    "\n",
    "i=6\n",
    "lst = [1, 3, 4, 5, 6, 7, 9]\n",
    "\n",
    "\n",
    "Complexity = O(n * n-i) = O(n^2)"
   ]
  },
  {
   "cell_type": "code",
   "execution_count": 17,
   "id": "56b5ec1c-05b8-4ee7-8c2e-e7df49386d36",
   "metadata": {},
   "outputs": [],
   "source": [
    "lst = [5, 7, 1, 3, 4, 9, 6]"
   ]
  },
  {
   "cell_type": "code",
   "execution_count": 21,
   "id": "616579b3-624c-4dab-9388-cad1fd947963",
   "metadata": {},
   "outputs": [],
   "source": [
    "def selection_sort(lst):\n",
    "    n = len(lst)\n",
    "    \n",
    "    for i in range(n):\n",
    "        min_index = i\n",
    "        for j in range(i+1, n):\n",
    "            if lst[min_index] > lst[j]:\n",
    "                min_index = j\n",
    "                \n",
    "        lst[i], lst[min_index] = lst[min_index], lst[i]"
   ]
  },
  {
   "cell_type": "code",
   "execution_count": 22,
   "id": "42fdbd2b-adf1-4df6-97b2-0df8e49d0d45",
   "metadata": {},
   "outputs": [],
   "source": [
    "selection_sort(lst)"
   ]
  },
  {
   "cell_type": "code",
   "execution_count": 23,
   "id": "77ce6370-cc28-452f-8c98-20beb4c89f98",
   "metadata": {},
   "outputs": [
    {
     "data": {
      "text/plain": [
       "[1, 3, 4, 5, 6, 7, 9]"
      ]
     },
     "execution_count": 23,
     "metadata": {},
     "output_type": "execute_result"
    }
   ],
   "source": [
    "lst"
   ]
  },
  {
   "cell_type": "markdown",
   "id": "d9e1ad99-0bc2-4a0b-a7cc-769cc4cb8989",
   "metadata": {},
   "source": [
    "## Quick Sort"
   ]
  },
  {
   "cell_type": "raw",
   "id": "4b5c6c03-b39a-4999-ba87-ecad4ecbb398",
   "metadata": {},
   "source": [
    "A recursive sort similar to Merge Sort\n",
    "\n",
    "Worst case: O(n^2)\n",
    "Best case: O(n)\n",
    "Average: O(nlogn)\n",
    "\n",
    "lst = [2, 6, 5, 3, 8, 7, 1, 0]\n",
    "pivot = 3\n",
    "move the pivot to the end of the list\n",
    "\n",
    "[2, 6, 5, 0, 8, 7, 1, *3*]\n",
    "left ->      <- right\n",
    "\n",
    "selecting 2 items:\n",
    "1 item from left that is larger than pivot -> 6\n",
    "1 item from right that is smaller than pivot -> 1\n",
    "\n",
    "Now, we swap 6 and 1\n",
    "[2, 1, 5, 0, 8, 7, 6, *3*]\n",
    "\n",
    "Repeat:\n",
    "selecting 2 items:\n",
    "1 item from left that is larger than pivot -> 5\n",
    "1 item from right that is smaller than pivot -> 0\n",
    "Now, swap:\n",
    "\n",
    "[2, 1, 0, 5, 8, 7, 6, *3*]\n",
    "\n",
    "pivot = 5\n",
    "move the pivot to the end of the list\n",
    "[2, 1, 0, 3, 8, 7, 6, *5*]\n"
   ]
  },
  {
   "cell_type": "code",
   "execution_count": 27,
   "id": "badb9207-4087-454e-bad7-804993db1790",
   "metadata": {},
   "outputs": [],
   "source": [
    "def partition(lst, low, high):\n",
    "    pivot = lst[high]\n",
    "\n",
    "    i = low - 1\n",
    "    for j in range(low, high):\n",
    "        if lst[j] <= pivot:\n",
    "            i += 1\n",
    "            lst[i], lst[j] = lst[j], lst[i]\n",
    "            \n",
    "    lst[i + 1], lst[high] = lst[high], lst[i+1]\n",
    "    return i + 1\n",
    "\n",
    "def quick_sort(lst, low, high):\n",
    "    if low < high:\n",
    "        \n",
    "        # find pivot element\n",
    "        # element smaller than pivot from left\n",
    "        # element greater than pivot from right\n",
    "        pi = partition(lst, low, high)\n",
    "        \n",
    "        # recursively call on left of pivot\n",
    "        quick_sort(lst, low, pi - 1)\n",
    "        \n",
    "        # recursively call on right of pivot\n",
    "        quick_sort(lst, pi + 1, high) "
   ]
  },
  {
   "cell_type": "code",
   "execution_count": 28,
   "id": "7f2b31d9-0683-42b1-8292-0249a6c7e78c",
   "metadata": {},
   "outputs": [],
   "source": [
    "lst = [5, 7, 1, 3, 4, 9, 6]"
   ]
  },
  {
   "cell_type": "code",
   "execution_count": 29,
   "id": "4188f3d3-8a86-47fc-8236-e180eff85cbe",
   "metadata": {},
   "outputs": [
    {
     "data": {
      "text/plain": [
       "[1, 3, 4, 5, 6, 7, 9]"
      ]
     },
     "execution_count": 29,
     "metadata": {},
     "output_type": "execute_result"
    }
   ],
   "source": [
    "quick_sort(lst, 0, len(lst) - 1)\n",
    "lst"
   ]
  },
  {
   "cell_type": "code",
   "execution_count": null,
   "id": "3a02caae-971b-4e2d-87cf-00892c37fcbc",
   "metadata": {},
   "outputs": [],
   "source": []
  }
 ],
 "metadata": {
  "kernelspec": {
   "display_name": "Python 3 (ipykernel)",
   "language": "python",
   "name": "python3"
  },
  "language_info": {
   "codemirror_mode": {
    "name": "ipython",
    "version": 3
   },
   "file_extension": ".py",
   "mimetype": "text/x-python",
   "name": "python",
   "nbconvert_exporter": "python",
   "pygments_lexer": "ipython3",
   "version": "3.8.13"
  }
 },
 "nbformat": 4,
 "nbformat_minor": 5
}
