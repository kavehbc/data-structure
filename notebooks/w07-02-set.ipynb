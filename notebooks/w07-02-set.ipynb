{
 "cells": [
  {
   "cell_type": "markdown",
   "id": "fc38ece1-a7af-40c0-a753-c47557f7b0d8",
   "metadata": {},
   "source": [
    "# Set"
   ]
  },
  {
   "cell_type": "code",
   "execution_count": 1,
   "id": "254db346-5939-4aac-bed4-65b81af6e572",
   "metadata": {},
   "outputs": [
    {
     "data": {
      "text/plain": [
       "{1, 2, 3, 4, 5}"
      ]
     },
     "execution_count": 1,
     "metadata": {},
     "output_type": "execute_result"
    }
   ],
   "source": [
    "my_set = {1, 2, 3, 4, 5}\n",
    "my_set"
   ]
  },
  {
   "cell_type": "code",
   "execution_count": 2,
   "id": "d71922a5-f7fc-4912-ab01-99c7500b991b",
   "metadata": {},
   "outputs": [
    {
     "data": {
      "text/plain": [
       "{1, 2, 3, 5, 6}"
      ]
     },
     "execution_count": 2,
     "metadata": {},
     "output_type": "execute_result"
    }
   ],
   "source": [
    "# duplication is not allowed\n",
    "\n",
    "my_set = {1, 2, 3, 2, 5, 6, 3}\n",
    "my_set"
   ]
  },
  {
   "cell_type": "code",
   "execution_count": 3,
   "id": "5e80ea7f-650d-4d92-9198-f5bfba0ec4a9",
   "metadata": {},
   "outputs": [
    {
     "data": {
      "text/plain": [
       "{1, 2, 3, 5, 6, 7}"
      ]
     },
     "execution_count": 3,
     "metadata": {},
     "output_type": "execute_result"
    }
   ],
   "source": [
    "# adding a new value to set\n",
    "\n",
    "my_set.add(7)\n",
    "my_set"
   ]
  },
  {
   "cell_type": "code",
   "execution_count": 10,
   "id": "65b0bcb9-82c1-4b1e-8d58-41fa31e34191",
   "metadata": {},
   "outputs": [
    {
     "data": {
      "text/plain": [
       "{1, 2, 3, 5, 6, 7, 8, 9, 10}"
      ]
     },
     "execution_count": 10,
     "metadata": {},
     "output_type": "execute_result"
    }
   ],
   "source": [
    "# adding multiple values to set\n",
    "\n",
    "my_set.update({8, 9, 10})\n",
    "my_set"
   ]
  },
  {
   "cell_type": "code",
   "execution_count": 11,
   "id": "a05ee398-ec05-4446-be98-458711a8b0b0",
   "metadata": {},
   "outputs": [
    {
     "data": {
      "text/plain": [
       "{1, 2, 3, 5, 6, 7, 8, 9}"
      ]
     },
     "execution_count": 11,
     "metadata": {},
     "output_type": "execute_result"
    }
   ],
   "source": [
    "# removing an item\n",
    "\n",
    "my_set.remove(10)\n",
    "my_set"
   ]
  },
  {
   "cell_type": "code",
   "execution_count": 14,
   "id": "261940e0-3e44-4d33-ac97-a7d30b9ed1e3",
   "metadata": {},
   "outputs": [
    {
     "name": "stdout",
     "output_type": "stream",
     "text": [
      "Returned Item: 2\n",
      "Updated Set: {3, 5, 6, 7, 8, 9}\n"
     ]
    }
   ],
   "source": [
    "# reading a random value from set\n",
    "\n",
    "my_item = my_set.pop()\n",
    "\n",
    "print(f\"Returned Item: {my_item}\")\n",
    "print(f\"Updated Set: {my_set}\")"
   ]
  },
  {
   "cell_type": "code",
   "execution_count": 15,
   "id": "1e4f2a4a-d78d-4032-b315-98843e90df3f",
   "metadata": {},
   "outputs": [
    {
     "data": {
      "text/plain": [
       "[1, 2, 3, 2, 5, 4, 5]"
      ]
     },
     "execution_count": 15,
     "metadata": {},
     "output_type": "execute_result"
    }
   ],
   "source": [
    "# removing duplicates from the list\n",
    "\n",
    "my_list = [1, 2, 3, 2, 5, 4, 5]\n",
    "my_list"
   ]
  },
  {
   "cell_type": "code",
   "execution_count": 16,
   "id": "9d74afdf-4e2a-4dbf-af35-7c993fefb1d9",
   "metadata": {},
   "outputs": [
    {
     "data": {
      "text/plain": [
       "[1, 2, 3, 5, 4]"
      ]
     },
     "execution_count": 16,
     "metadata": {},
     "output_type": "execute_result"
    }
   ],
   "source": [
    "# solution 1\n",
    "\n",
    "my_unique_list = []\n",
    "for item in my_list:\n",
    "    if item not in my_unique_list:\n",
    "        my_unique_list.append(item)\n",
    "        \n",
    "my_unique_list"
   ]
  },
  {
   "cell_type": "code",
   "execution_count": 17,
   "id": "27dbf8b5-145b-4570-9362-07b758628aae",
   "metadata": {},
   "outputs": [
    {
     "data": {
      "text/plain": [
       "[1, 2, 3, 4, 5]"
      ]
     },
     "execution_count": 17,
     "metadata": {},
     "output_type": "execute_result"
    }
   ],
   "source": [
    "# solution 2\n",
    "\n",
    "my_unique_list = list(set(my_list))\n",
    "my_unique_list"
   ]
  },
  {
   "cell_type": "code",
   "execution_count": 19,
   "id": "2a6e32f7-f47d-48c0-ab1e-64a4ee6d7954",
   "metadata": {},
   "outputs": [
    {
     "data": {
      "text/plain": [
       "{1, 2, 3, 4, 5, 6, 7, 8}"
      ]
     },
     "execution_count": 19,
     "metadata": {},
     "output_type": "execute_result"
    }
   ],
   "source": [
    "# union\n",
    "# combining two sets\n",
    "\n",
    "my_set_1 = {1, 2, 3, 4, 5}\n",
    "my_set_2 = {4, 5, 6, 7, 8}\n",
    "\n",
    "my_set = my_set_1.union(my_set_2)\n",
    "my_set"
   ]
  },
  {
   "cell_type": "code",
   "execution_count": 23,
   "id": "450407d7-cff0-4064-9868-c9d8038fe1af",
   "metadata": {},
   "outputs": [
    {
     "data": {
      "text/plain": [
       "{4, 5}"
      ]
     },
     "execution_count": 23,
     "metadata": {},
     "output_type": "execute_result"
    }
   ],
   "source": [
    "# intersection\n",
    "# returning mutual elements between two sets\n",
    "\n",
    "my_set_1 = {1, 2, 3, 4, 5}\n",
    "my_set_2 = {4, 5, 6, 7, 8}\n",
    "\n",
    "my_set = my_set_1.intersection(my_set_2)\n",
    "my_set"
   ]
  },
  {
   "cell_type": "code",
   "execution_count": 24,
   "id": "73ca5dc4-b206-42e9-acaf-e9d69cdef2a2",
   "metadata": {},
   "outputs": [
    {
     "data": {
      "text/plain": [
       "{1, 2, 3}"
      ]
     },
     "execution_count": 24,
     "metadata": {},
     "output_type": "execute_result"
    }
   ],
   "source": [
    "# difference\n",
    "# returning the difference between two sets\n",
    "\n",
    "my_set_1 = {1, 2, 3, 4, 5}\n",
    "my_set_2 = {4, 5, 6, 7, 8}\n",
    "\n",
    "my_set = my_set_1.difference(my_set_2)\n",
    "my_set"
   ]
  },
  {
   "cell_type": "code",
   "execution_count": 25,
   "id": "88b29328-d541-4e74-a947-5421d27cf2a8",
   "metadata": {},
   "outputs": [
    {
     "data": {
      "text/plain": [
       "{1, 2, 3, 6, 7, 8}"
      ]
     },
     "execution_count": 25,
     "metadata": {},
     "output_type": "execute_result"
    }
   ],
   "source": [
    "# symmetric difference\n",
    "# returning the symmetricdifference between two sets\n",
    "\n",
    "my_set_1 = {1, 2, 3, 4, 5}\n",
    "my_set_2 = {4, 5, 6, 7, 8}\n",
    "\n",
    "my_set = my_set_1.symmetric_difference(my_set_2)\n",
    "my_set"
   ]
  },
  {
   "cell_type": "code",
   "execution_count": 28,
   "id": "d7bba32a-b22e-404c-a39c-b092f4e7baa6",
   "metadata": {},
   "outputs": [
    {
     "data": {
      "text/plain": [
       "{1, 2, 3, 4, 5, 6, 7, 8}"
      ]
     },
     "execution_count": 28,
     "metadata": {},
     "output_type": "execute_result"
    }
   ],
   "source": [
    "# union\n",
    "my_set = my_set_1 | my_set_2\n",
    "my_set"
   ]
  },
  {
   "cell_type": "code",
   "execution_count": null,
   "id": "e534ce4a-8b94-4fee-90ed-ee0d3aded5ff",
   "metadata": {},
   "outputs": [],
   "source": [
    "# intersection\n",
    "my_set = my_set_1 & my_set_2\n",
    "my_set"
   ]
  },
  {
   "cell_type": "code",
   "execution_count": 29,
   "id": "0710494e-0f81-4934-9b11-28c71bbba651",
   "metadata": {},
   "outputs": [
    {
     "data": {
      "text/plain": [
       "{1, 2, 3}"
      ]
     },
     "execution_count": 29,
     "metadata": {},
     "output_type": "execute_result"
    }
   ],
   "source": [
    "# difference\n",
    "my_set = my_set_1 - my_set_2\n",
    "my_set"
   ]
  },
  {
   "cell_type": "code",
   "execution_count": 30,
   "id": "130a8853-7516-4ec9-8490-838e6f2ed312",
   "metadata": {},
   "outputs": [
    {
     "data": {
      "text/plain": [
       "{1, 2, 3, 6, 7, 8}"
      ]
     },
     "execution_count": 30,
     "metadata": {},
     "output_type": "execute_result"
    }
   ],
   "source": [
    "# symmetric difference\n",
    "my_set = my_set_1 ^ my_set_2\n",
    "my_set"
   ]
  },
  {
   "cell_type": "code",
   "execution_count": null,
   "id": "428ab5d5-7f47-453b-a119-b3a04a20c5ff",
   "metadata": {},
   "outputs": [],
   "source": []
  },
  {
   "cell_type": "code",
   "execution_count": null,
   "id": "dfe6691e-2015-4654-80a3-dff1239ffb42",
   "metadata": {},
   "outputs": [],
   "source": []
  },
  {
   "cell_type": "code",
   "execution_count": null,
   "id": "38ad5a4f-6c17-4855-87f7-57426b0291c7",
   "metadata": {},
   "outputs": [],
   "source": []
  },
  {
   "cell_type": "code",
   "execution_count": null,
   "id": "3ae63d4c-03e2-435e-8d7a-582e24738052",
   "metadata": {},
   "outputs": [],
   "source": []
  }
 ],
 "metadata": {
  "kernelspec": {
   "display_name": "Python 3 (ipykernel)",
   "language": "python",
   "name": "python3"
  },
  "language_info": {
   "codemirror_mode": {
    "name": "ipython",
    "version": 3
   },
   "file_extension": ".py",
   "mimetype": "text/x-python",
   "name": "python",
   "nbconvert_exporter": "python",
   "pygments_lexer": "ipython3",
   "version": "3.8.13"
  }
 },
 "nbformat": 4,
 "nbformat_minor": 5
}
