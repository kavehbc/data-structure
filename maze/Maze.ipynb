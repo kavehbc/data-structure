{
 "cells": [
  {
   "cell_type": "code",
   "execution_count": 1,
   "id": "e95cdc87-23e9-4419-8077-fcbea0fbb8fe",
   "metadata": {
    "ExecuteTime": {
     "end_time": "2024-02-09T17:59:22.479706153Z",
     "start_time": "2024-02-09T17:59:22.328089150Z"
    },
    "execution": {
     "iopub.execute_input": "2024-06-14T16:50:02.169945Z",
     "iopub.status.busy": "2024-06-14T16:50:02.168940Z",
     "iopub.status.idle": "2024-06-14T16:50:02.527854Z",
     "shell.execute_reply": "2024-06-14T16:50:02.526849Z",
     "shell.execute_reply.started": "2024-06-14T16:50:02.169945Z"
    }
   },
   "outputs": [],
   "source": [
    "# import libraries\n",
    "import numpy as np\n",
    "import imageio\n",
    "from PIL import Image\n",
    "import os"
   ]
  },
  {
   "cell_type": "code",
   "execution_count": 2,
   "id": "9373a40d-a17a-4fd9-9076-36b941d35252",
   "metadata": {
    "ExecuteTime": {
     "end_time": "2024-02-09T18:30:15.165669483Z",
     "start_time": "2024-02-09T18:30:15.123593202Z"
    },
    "execution": {
     "iopub.execute_input": "2024-06-14T16:50:03.299584Z",
     "iopub.status.busy": "2024-06-14T16:50:03.299584Z",
     "iopub.status.idle": "2024-06-14T16:50:03.323425Z",
     "shell.execute_reply": "2024-06-14T16:50:03.320428Z",
     "shell.execute_reply.started": "2024-06-14T16:50:03.299584Z"
    }
   },
   "outputs": [],
   "source": [
    "def image_to_matrix(image_path):\n",
    "    # Open the image\n",
    "    img = Image.open(image_path)\n",
    "    \n",
    "    # Convert Image to gray-scale\n",
    "    img = img.convert(\"L\")\n",
    "    \n",
    "    # Convert to a binary matrix\n",
    "    width , height = img.size\n",
    "    \n",
    "    matrix = [[0 if img.getpixel((x,y))== 255 else 1 for x in range(width)]for y in range(height)]\n",
    "    return np.array(matrix)"
   ]
  },
  {
   "cell_type": "code",
   "execution_count": 3,
   "id": "e6f32cfe-fcaf-4bb8-b8f1-602d3908d8c7",
   "metadata": {
    "ExecuteTime": {
     "end_time": "2024-02-09T17:59:22.912154415Z",
     "start_time": "2024-02-09T17:59:22.905669970Z"
    },
    "execution": {
     "iopub.execute_input": "2024-06-14T16:50:03.886358Z",
     "iopub.status.busy": "2024-06-14T16:50:03.886358Z",
     "iopub.status.idle": "2024-06-14T16:50:03.909900Z",
     "shell.execute_reply": "2024-06-14T16:50:03.908907Z",
     "shell.execute_reply.started": "2024-06-14T16:50:03.886358Z"
    }
   },
   "outputs": [],
   "source": [
    "def matrix_to_image(matrix, counter, file_name = None):\n",
    "    scale = 300 // matrix.shape[0]\n",
    "    \n",
    "    matrix = np.repeat(matrix, scale, axis=1)\n",
    "    matrix = np.repeat(matrix, scale, axis=0)\n",
    "    \n",
    "    height, width = len(matrix), len(matrix[0])\n",
    "    \n",
    "    img = Image.new(\"RGB\", (width, height))\n",
    "    \n",
    "    for y in range(height):\n",
    "        for x in range(width):\n",
    "            if matrix[y][x] == 1:\n",
    "                img.putpixel((x,y), (0,0,0))\n",
    "            elif matrix[y][x] == 0:\n",
    "                img.putpixel((x,y), (255,255,255))\n",
    "            elif matrix[y][x] == -2:\n",
    "                img.putpixel((x,y), (0,0,255))\n",
    "            \n",
    "            else:\n",
    "                img.putpixel((x,y),(0,255,0))\n",
    "    \n",
    "    img.save(f\"{file_name}/{counter}.png\", quality=99)\n",
    "                "
   ]
  },
  {
   "cell_type": "code",
   "execution_count": 4,
   "id": "bac474fb-e24d-497e-a472-c21636ff14d6",
   "metadata": {
    "ExecuteTime": {
     "end_time": "2024-02-09T17:59:23.829266393Z",
     "start_time": "2024-02-09T17:59:23.825779158Z"
    },
    "execution": {
     "iopub.execute_input": "2024-06-14T16:50:04.400993Z",
     "iopub.status.busy": "2024-06-14T16:50:04.399993Z",
     "iopub.status.idle": "2024-06-14T16:50:04.423162Z",
     "shell.execute_reply": "2024-06-14T16:50:04.422197Z",
     "shell.execute_reply.started": "2024-06-14T16:50:04.400993Z"
    }
   },
   "outputs": [],
   "source": [
    "def matrix_to_image_GS(matrix, output_path):\n",
    "    # Determine the size of the image\n",
    "    height = len(matrix)\n",
    "    width = len(matrix[0])\n",
    "    \n",
    "    # Create a new blank image\n",
    "    img = Image.new('RGB', (width, height), color='white')\n",
    "    \n",
    "    # Set pixel values based on the binary matrix\n",
    "    for y in range(height):\n",
    "        for x in range(width):\n",
    "            # If matrix value is 1, set pixel to black\n",
    "            if matrix[y][x] == 1:\n",
    "                img.putpixel((x, y), (0, 0, 0))\n",
    "            # Otherwise, set pixel to white\n",
    "            else:\n",
    "                img.putpixel((x, y), (255, 255, 255))\n",
    "    \n",
    "    # Save the image to the output path\n",
    "    img.save(output_path)\n"
   ]
  },
  {
   "cell_type": "code",
   "execution_count": 5,
   "id": "78893bfa-bfce-4000-8c60-e7d974a2eb91",
   "metadata": {
    "ExecuteTime": {
     "end_time": "2024-02-09T18:00:49.280166931Z",
     "start_time": "2024-02-09T18:00:49.266019332Z"
    },
    "execution": {
     "iopub.execute_input": "2024-06-14T16:50:04.879017Z",
     "iopub.status.busy": "2024-06-14T16:50:04.879017Z",
     "iopub.status.idle": "2024-06-14T16:50:04.907499Z",
     "shell.execute_reply": "2024-06-14T16:50:04.904944Z",
     "shell.execute_reply.started": "2024-06-14T16:50:04.879017Z"
    }
   },
   "outputs": [],
   "source": [
    "\n",
    "def step(i, j, fn, matrix= None, deep_path = [], final_path=[] , end_point= (0,0)):\n",
    "    global counter\n",
    "    \n",
    "    if matrix[end_point]>0:\n",
    "        return\n",
    "    \n",
    "    if i<0 or i>=matrix.shape[0] or j<0 or j>=matrix.shape[1]:\n",
    "        return\n",
    "    \n",
    "    if (i,j) in deep_path or matrix[(i,j)]>0:\n",
    "        return\n",
    "    \n",
    "    deep_path.append((i,j))\n",
    "    final_path.append((i,j))\n",
    "    counter += 1\n",
    "    matrix[(i,j)] = counter\n",
    "    matrix_to_image(matrix, counter, file_name = fn)\n",
    "    \n",
    "    if (i,j) == end_point:\n",
    "        print(f\"This is the deep path: {deep_path}\\n\")\n",
    "        print(f\"\\nThis is the final path: {final_path}\")\n",
    "        return\n",
    "    \n",
    "    \n",
    "    else:\n",
    "        step(i + 1, j, fn, matrix, deep_path, final_path, end_point)\n",
    "        step(i, j - 1, fn, matrix, deep_path, final_path, end_point)\n",
    "        step(i, j + 1, fn, matrix, deep_path, final_path, end_point)\n",
    "        step(i - 1, j, fn, matrix, deep_path, final_path, end_point)\n",
    "        if (i,j) in deep_path or matrix[(i,j)] > 0:\n",
    "            matrix[(i,j)]=-2\n",
    "            final_path.pop()\n",
    "            return\n",
    "         "
   ]
  },
  {
   "cell_type": "code",
   "execution_count": 6,
   "id": "db8bfa65-bde9-42fd-8924-7afc4eca030f",
   "metadata": {
    "ExecuteTime": {
     "end_time": "2024-02-09T18:00:50.124388796Z",
     "start_time": "2024-02-09T18:00:50.095112132Z"
    },
    "execution": {
     "iopub.execute_input": "2024-06-14T16:50:05.578511Z",
     "iopub.status.busy": "2024-06-14T16:50:05.577498Z",
     "iopub.status.idle": "2024-06-14T16:50:05.651885Z",
     "shell.execute_reply": "2024-06-14T16:50:05.649865Z",
     "shell.execute_reply.started": "2024-06-14T16:50:05.578511Z"
    }
   },
   "outputs": [
    {
     "name": "stdout",
     "output_type": "stream",
     "text": [
      "[[1 1 1 1 0 1 1 1 1 1 1 1]\n",
      " [1 0 1 0 0 0 0 1 0 0 0 1]\n",
      " [1 0 1 1 1 1 0 1 0 1 0 1]\n",
      " [1 0 0 1 0 0 0 1 0 1 0 1]\n",
      " [1 1 0 1 0 1 1 1 0 1 0 1]\n",
      " [1 0 0 0 0 0 0 0 0 1 0 1]\n",
      " [1 0 1 1 1 1 1 1 1 1 1 1]\n",
      " [1 0 0 0 1 0 0 0 0 0 0 1]\n",
      " [1 1 1 0 1 0 1 1 1 1 0 1]\n",
      " [1 0 0 0 1 0 1 0 0 0 0 1]\n",
      " [1 0 1 1 1 0 1 0 1 1 0 1]\n",
      " [1 0 0 0 0 0 1 0 1 0 0 1]\n",
      " [1 1 1 1 1 1 1 0 1 1 1 1]]\n"
     ]
    }
   ],
   "source": [
    "image_path = 'Maze1.png'\n",
    "maze1 = image_to_matrix(image_path)\n",
    "print(maze1)"
   ]
  },
  {
   "cell_type": "code",
   "execution_count": 7,
   "id": "4cc44a77-64f7-4e48-a1f4-9f5e93ed76e5",
   "metadata": {
    "ExecuteTime": {
     "end_time": "2024-02-09T18:00:53.581838405Z",
     "start_time": "2024-02-09T18:00:53.535579665Z"
    },
    "execution": {
     "iopub.execute_input": "2024-06-14T16:50:06.243640Z",
     "iopub.status.busy": "2024-06-14T16:50:06.243640Z",
     "iopub.status.idle": "2024-06-14T16:50:06.274241Z",
     "shell.execute_reply": "2024-06-14T16:50:06.273241Z",
     "shell.execute_reply.started": "2024-06-14T16:50:06.243640Z"
    }
   },
   "outputs": [
    {
     "data": {
      "text/plain": [
       "'Maze1'"
      ]
     },
     "execution_count": 7,
     "metadata": {},
     "output_type": "execute_result"
    }
   ],
   "source": [
    "image_name2 = os.path.splitext(os.path.basename(image_path))[0]\n",
    "image_name2"
   ]
  },
  {
   "cell_type": "code",
   "execution_count": 8,
   "id": "c15ac146-edf1-4bea-9ad4-b28a77b1abc5",
   "metadata": {
    "ExecuteTime": {
     "end_time": "2024-02-09T18:00:54.473005734Z",
     "start_time": "2024-02-09T18:00:54.469458464Z"
    },
    "execution": {
     "iopub.execute_input": "2024-06-14T16:50:06.809973Z",
     "iopub.status.busy": "2024-06-14T16:50:06.809973Z",
     "iopub.status.idle": "2024-06-14T16:50:06.820569Z",
     "shell.execute_reply": "2024-06-14T16:50:06.819551Z",
     "shell.execute_reply.started": "2024-06-14T16:50:06.809973Z"
    }
   },
   "outputs": [],
   "source": [
    "try:\n",
    "   os.makedirs(image_name2)\n",
    "except FileExistsError:\n",
    "   # directory already exists\n",
    "   pass"
   ]
  },
  {
   "cell_type": "code",
   "execution_count": 9,
   "id": "bae5baad-6156-4ce0-9b69-e59574198cdc",
   "metadata": {
    "ExecuteTime": {
     "end_time": "2024-02-09T18:00:58.512257429Z",
     "start_time": "2024-02-09T18:00:55.362634201Z"
    },
    "execution": {
     "iopub.execute_input": "2024-06-14T16:50:07.599314Z",
     "iopub.status.busy": "2024-06-14T16:50:07.599314Z",
     "iopub.status.idle": "2024-06-14T16:50:13.235828Z",
     "shell.execute_reply": "2024-06-14T16:50:13.233143Z",
     "shell.execute_reply.started": "2024-06-14T16:50:07.599314Z"
    }
   },
   "outputs": [
    {
     "name": "stdout",
     "output_type": "stream",
     "text": [
      "This is the deep path: [(0, 4), (1, 4), (1, 3), (1, 5), (1, 6), (2, 6), (3, 6), (3, 5), (3, 4), (4, 4), (5, 4), (5, 3), (5, 2), (5, 1), (6, 1), (7, 1), (7, 2), (7, 3), (8, 3), (9, 3), (9, 2), (9, 1), (10, 1), (11, 1), (11, 2), (11, 3), (11, 4), (11, 5), (10, 5), (9, 5), (8, 5), (7, 5), (7, 6), (7, 7), (7, 8), (7, 9), (7, 10), (8, 10), (9, 10), (10, 10), (11, 10), (11, 9), (9, 9), (9, 8), (9, 7), (10, 7), (11, 7), (12, 7)]\n",
      "\n",
      "\n",
      "This is the final path: [(0, 4), (1, 4), (1, 5), (1, 6), (2, 6), (3, 6), (3, 5), (3, 4), (4, 4), (5, 4), (5, 3), (5, 2), (5, 1), (6, 1), (7, 1), (7, 2), (7, 3), (8, 3), (9, 3), (9, 2), (9, 1), (10, 1), (11, 1), (11, 2), (11, 3), (11, 4), (11, 5), (10, 5), (9, 5), (8, 5), (7, 5), (7, 6), (7, 7), (7, 8), (7, 9), (7, 10), (8, 10), (9, 10), (9, 9), (9, 8), (9, 7), (10, 7), (11, 7), (12, 7)]\n",
      "\n",
      "[[ 1  1  1  1 -2  1  1  1  1  1  1  1]\n",
      " [ 1  0  1 -2 -2 -2 -2  1  0  0  0  1]\n",
      " [ 1  0  1  1  1  1 -2  1  0  1  0  1]\n",
      " [ 1  0  0  1 -2 -2 -2  1  0  1  0  1]\n",
      " [ 1  1  0  1 -2  1  1  1  0  1  0  1]\n",
      " [ 1 -2 -2 -2 -2  0  0  0  0  1  0  1]\n",
      " [ 1 -2  1  1  1  1  1  1  1  1  1  1]\n",
      " [ 1 -2 -2 -2  1 -2 -2 -2 -2 -2 -2  1]\n",
      " [ 1  1  1 -2  1 -2  1  1  1  1 -2  1]\n",
      " [ 1 -2 -2 -2  1 -2  1 -2 -2 -2 -2  1]\n",
      " [ 1 -2  1  1  1 -2  1 -2  1  1 -2  1]\n",
      " [ 1 -2 -2 -2 -2 -2  1 -2  1 -2 -2  1]\n",
      " [ 1  1  1  1  1  1  1 49  1  1  1  1]]\n"
     ]
    }
   ],
   "source": [
    "start = (0,4)\n",
    "end_point = (12,7)\n",
    "\n",
    "counter = 1\n",
    "step(start[0],start[1],fn=image_name2, matrix = maze1 , end_point = end_point)\n",
    "print()\n",
    "print(maze1)"
   ]
  },
  {
   "cell_type": "code",
   "execution_count": 10,
   "id": "bef28783-99d0-4cd4-96f2-04005da7faf9",
   "metadata": {
    "ExecuteTime": {
     "end_time": "2024-02-09T18:00:58.895242310Z",
     "start_time": "2024-02-09T18:00:58.497711417Z"
    },
    "execution": {
     "iopub.execute_input": "2024-06-14T16:50:14.238332Z",
     "iopub.status.busy": "2024-06-14T16:50:14.237305Z",
     "iopub.status.idle": "2024-06-14T16:50:15.005941Z",
     "shell.execute_reply": "2024-06-14T16:50:15.004380Z",
     "shell.execute_reply.started": "2024-06-14T16:50:14.237305Z"
    }
   },
   "outputs": [],
   "source": [
    "import warnings\n",
    "warnings.simplefilter(\"ignore\")\n",
    "\n",
    "images = [imageio.imread(f'{image_name2}/{i}.png') for i in range(2,counter+1)]\n",
    "imageio.mimsave(f'{image_name2}/path.gif', images, duration =5.5)"
   ]
  },
  {
   "cell_type": "code",
   "execution_count": 11,
   "id": "f4fa63eb-99d5-41cb-99f4-684bb13dc1a1",
   "metadata": {
    "ExecuteTime": {
     "end_time": "2024-02-09T18:00:58.913263689Z",
     "start_time": "2024-02-09T18:00:58.897362361Z"
    },
    "execution": {
     "iopub.execute_input": "2024-06-14T16:50:15.008912Z",
     "iopub.status.busy": "2024-06-14T16:50:15.007900Z",
     "iopub.status.idle": "2024-06-14T16:50:15.022005Z",
     "shell.execute_reply": "2024-06-14T16:50:15.020001Z",
     "shell.execute_reply.started": "2024-06-14T16:50:15.008912Z"
    }
   },
   "outputs": [],
   "source": [
    "maze2 = np.array([\n",
    "    [1, 1, 1, 1, 1, 1, 1, 1, 1, 1],\n",
    "    [1, 0, 1, 0, 1, 0, 0, 0, 0, 1],\n",
    "    [1, 0, 1, 0, 1, 0, 0, 0, 0, 1],\n",
    "    [1, 0, 1, 0, 1, 1, 1, 1, 0, 1],\n",
    "    [1, 0, 1, 0, 0, 0, 0, 1, 0, 1],\n",
    "    [1, 0, 1, 0, 0, 0, 0, 1, 0, 1],\n",
    "    [1, 0, 0, 0, 0, 0, 0, 1, 0, 1],\n",
    "    [1, 0, 1, 0, 0, 0, 0, 0, 0, 1],\n",
    "    [1, 0, 1, 0, 0, 0, 0, 0, 0, 1],\n",
    "    [1, 1, 1, 1, 1, 1, 1, 1, 1, 1]\n",
    "                ])"
   ]
  },
  {
   "cell_type": "code",
   "execution_count": 12,
   "id": "bc30228a-6170-4e71-b290-99df77456787",
   "metadata": {
    "ExecuteTime": {
     "end_time": "2024-02-09T18:00:58.951518138Z",
     "start_time": "2024-02-09T18:00:58.900519794Z"
    },
    "execution": {
     "iopub.execute_input": "2024-06-14T16:50:15.682702Z",
     "iopub.status.busy": "2024-06-14T16:50:15.682702Z",
     "iopub.status.idle": "2024-06-14T16:50:15.692245Z",
     "shell.execute_reply": "2024-06-14T16:50:15.691288Z",
     "shell.execute_reply.started": "2024-06-14T16:50:15.682702Z"
    }
   },
   "outputs": [],
   "source": [
    "output_path = \"Maze2.png\"\n",
    "matrix_to_image_GS(maze2, output_path)\n"
   ]
  },
  {
   "cell_type": "code",
   "execution_count": 13,
   "id": "17eaba22-e6a0-40a7-a0ab-639156fcff12",
   "metadata": {
    "ExecuteTime": {
     "end_time": "2024-02-09T18:00:58.952493463Z",
     "start_time": "2024-02-09T18:00:58.919549047Z"
    },
    "execution": {
     "iopub.execute_input": "2024-06-14T16:50:17.092049Z",
     "iopub.status.busy": "2024-06-14T16:50:17.092049Z",
     "iopub.status.idle": "2024-06-14T16:50:17.102063Z",
     "shell.execute_reply": "2024-06-14T16:50:17.101062Z",
     "shell.execute_reply.started": "2024-06-14T16:50:17.092049Z"
    }
   },
   "outputs": [
    {
     "data": {
      "text/plain": [
       "'Maze2'"
      ]
     },
     "execution_count": 13,
     "metadata": {},
     "output_type": "execute_result"
    }
   ],
   "source": [
    "image_name = os.path.splitext(os.path.basename(output_path))[0]\n",
    "image_name"
   ]
  },
  {
   "cell_type": "code",
   "execution_count": 14,
   "id": "0da4b1a8-0c59-4d9b-9585-dbd08d681022",
   "metadata": {
    "ExecuteTime": {
     "end_time": "2024-02-09T18:00:58.972807152Z",
     "start_time": "2024-02-09T18:00:58.969423402Z"
    },
    "execution": {
     "iopub.execute_input": "2024-06-14T16:50:20.090997Z",
     "iopub.status.busy": "2024-06-14T16:50:20.090997Z",
     "iopub.status.idle": "2024-06-14T16:50:20.110062Z",
     "shell.execute_reply": "2024-06-14T16:50:20.108062Z",
     "shell.execute_reply.started": "2024-06-14T16:50:20.090997Z"
    }
   },
   "outputs": [],
   "source": [
    "try:\n",
    "   os.makedirs(image_name)\n",
    "except FileExistsError:\n",
    "   # directory already exists\n",
    "   pass"
   ]
  },
  {
   "cell_type": "code",
   "execution_count": 15,
   "id": "ab1d78e6-9cb0-4627-87ea-df89e3c80971",
   "metadata": {
    "ExecuteTime": {
     "end_time": "2024-02-09T18:01:02.190194452Z",
     "start_time": "2024-02-09T18:00:59.565783256Z"
    },
    "execution": {
     "iopub.execute_input": "2024-06-14T16:50:20.859553Z",
     "iopub.status.busy": "2024-06-14T16:50:20.858552Z",
     "iopub.status.idle": "2024-06-14T16:50:27.239871Z",
     "shell.execute_reply": "2024-06-14T16:50:27.236870Z",
     "shell.execute_reply.started": "2024-06-14T16:50:20.859553Z"
    }
   },
   "outputs": [
    {
     "name": "stdout",
     "output_type": "stream",
     "text": [
      "This is the deep path: [(1, 1), (2, 1), (3, 1), (4, 1), (5, 1), (6, 1), (7, 1), (8, 1), (6, 2), (6, 3), (7, 3), (8, 3), (8, 4), (8, 5), (8, 6), (8, 7), (8, 8), (7, 8), (7, 7), (7, 6), (7, 5), (7, 4), (6, 4), (6, 5), (6, 6), (5, 6), (5, 5), (5, 4), (5, 3), (4, 3), (4, 4), (4, 5), (4, 6), (3, 3), (2, 3), (1, 3), (6, 8), (5, 8), (4, 8), (3, 8), (2, 8), (2, 7), (2, 6), (2, 5)]\n",
      "\n",
      "\n",
      "This is the final path: [(1, 1), (2, 1), (3, 1), (4, 1), (5, 1), (6, 1), (6, 2), (6, 3), (7, 3), (8, 3), (8, 4), (8, 5), (8, 6), (8, 7), (8, 8), (7, 8), (6, 8), (5, 8), (4, 8), (3, 8), (2, 8), (2, 7), (2, 6), (2, 5)]\n"
     ]
    }
   ],
   "source": [
    "start = (1, 1)\n",
    "end_point = (2, 5)\n",
    "\n",
    "counter = 1\n",
    "deep_path = []\n",
    "final_path=[]\n",
    "step(start[0],start[1], fn=image_name, matrix = maze2,deep_path = deep_path,final_path =final_path,  end_point = end_point)\n"
   ]
  },
  {
   "cell_type": "code",
   "execution_count": 16,
   "id": "da675767-09d7-4997-9235-6edffb1a499e",
   "metadata": {
    "ExecuteTime": {
     "end_time": "2024-02-09T18:01:02.430566120Z",
     "start_time": "2024-02-09T18:01:02.189050504Z"
    },
    "execution": {
     "iopub.execute_input": "2024-06-14T16:50:27.243882Z",
     "iopub.status.busy": "2024-06-14T16:50:27.242870Z",
     "iopub.status.idle": "2024-06-14T16:50:27.862369Z",
     "shell.execute_reply": "2024-06-14T16:50:27.861522Z",
     "shell.execute_reply.started": "2024-06-14T16:50:27.243882Z"
    }
   },
   "outputs": [],
   "source": [
    "import warnings\n",
    "warnings.simplefilter(\"ignore\")\n",
    "\n",
    "images = [imageio.imread(f'{image_name}/{i}.png') for i in range(2,counter+1)]\n",
    "imageio.mimsave(f'{image_name}/path.gif', images, duration =5.5, loop=0)"
   ]
  },
  {
   "cell_type": "code",
   "execution_count": 17,
   "id": "69e64c44-878a-4733-a5a0-216dd128dc41",
   "metadata": {
    "ExecuteTime": {
     "end_time": "2024-02-09T18:30:20.012768598Z",
     "start_time": "2024-02-09T18:30:19.867079558Z"
    },
    "execution": {
     "iopub.execute_input": "2024-06-14T16:50:27.864367Z",
     "iopub.status.busy": "2024-06-14T16:50:27.864367Z",
     "iopub.status.idle": "2024-06-14T16:50:28.176466Z",
     "shell.execute_reply": "2024-06-14T16:50:28.174867Z",
     "shell.execute_reply.started": "2024-06-14T16:50:27.864367Z"
    }
   },
   "outputs": [],
   "source": [
    "def matrix_to_image(matrix, file_name = None):\n",
    "    scale = 300 // matrix.shape[0]\n",
    "    \n",
    "    matrix = np.repeat(matrix, scale, axis=1)\n",
    "    matrix = np.repeat(matrix, scale, axis=0)\n",
    "    \n",
    "    height, width = len(matrix), len(matrix[0])\n",
    "    \n",
    "    img = Image.new(\"RGB\", (width, height))\n",
    "    \n",
    "    for y in range(height):\n",
    "        for x in range(width):\n",
    "            if matrix[y][x] == 1:\n",
    "                img.putpixel((x,y), (0,0,0))\n",
    "            elif matrix[y][x] == 0:\n",
    "                img.putpixel((x,y), (255,255,255))\n",
    "            elif matrix[y][x] == -2:\n",
    "                img.putpixel((x,y), (0,0,255))\n",
    "            \n",
    "            else:\n",
    "                img.putpixel((x,y),(0,255,0))\n",
    "    \n",
    "    img.save(f\"{file_name}.png\", quality=99)\n",
    "    \n",
    "matrix_to_image(image_to_matrix(\"Maze1.png\"),'Maze1_resize')\n",
    "matrix_to_image(image_to_matrix(\"Maze2.png\"),'Maze2_resize')"
   ]
  },
  {
   "cell_type": "code",
   "execution_count": null,
   "id": "98849aeb32ab8f41",
   "metadata": {
    "collapsed": false,
    "jupyter": {
     "outputs_hidden": false
    }
   },
   "outputs": [],
   "source": []
  }
 ],
 "metadata": {
  "kernelspec": {
   "display_name": "Python 3 (ipykernel)",
   "language": "python",
   "name": "python3"
  },
  "language_info": {
   "codemirror_mode": {
    "name": "ipython",
    "version": 3
   },
   "file_extension": ".py",
   "mimetype": "text/x-python",
   "name": "python",
   "nbconvert_exporter": "python",
   "pygments_lexer": "ipython3",
   "version": "3.10.13"
  }
 },
 "nbformat": 4,
 "nbformat_minor": 5
}
